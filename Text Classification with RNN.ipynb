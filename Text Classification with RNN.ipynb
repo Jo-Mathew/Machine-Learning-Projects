{
 "cells": [
  {
   "cell_type": "markdown",
   "metadata": {
    "id": "9O9WZ6pbN0oA"
   },
   "source": [
    "# Text Classification with RNN"
   ]
  },
  {
   "cell_type": "markdown",
   "metadata": {
    "id": "Ipy78a3leJdH"
   },
   "source": [
    "## Load the model using Kaggle API"
   ]
  },
  {
   "cell_type": "code",
   "execution_count": null,
   "metadata": {
    "id": "nTaJzZDNwUNL"
   },
   "outputs": [],
   "source": [
    "!mkdir -p ~/.kaggle\n",
    "!cp kaggle.json ~/.kaggle"
   ]
  },
  {
   "cell_type": "code",
   "execution_count": null,
   "metadata": {
    "colab": {
     "base_uri": "https://localhost:8080/"
    },
    "id": "I8Blh44BwoiK",
    "outputId": "dd352316-4f77-4d93-ae9f-e9c07789f5e8"
   },
   "outputs": [
    {
     "name": "stdout",
     "output_type": "stream",
     "text": [
      "Warning: Your Kaggle API key is readable by other users on this system! To fix this, you can run 'chmod 600 /root/.kaggle/kaggle.json'\n",
      "Dataset URL: https://www.kaggle.com/datasets/lakshmi25npathi/imdb-dataset-of-50k-movie-reviews\n",
      "License(s): other\n",
      "Downloading imdb-dataset-of-50k-movie-reviews.zip to /content\n",
      " 78% 20.0M/25.7M [00:00<00:00, 62.7MB/s]\n",
      "100% 25.7M/25.7M [00:00<00:00, 68.7MB/s]\n"
     ]
    }
   ],
   "source": [
    "!kaggle datasets download -d lakshmi25npathi/imdb-dataset-of-50k-movie-reviews"
   ]
  },
  {
   "cell_type": "code",
   "execution_count": null,
   "metadata": {
    "colab": {
     "base_uri": "https://localhost:8080/"
    },
    "id": "uDpGeyDMwyzo",
    "outputId": "8d4c31c2-36a1-49ee-b40b-6670527db21f"
   },
   "outputs": [
    {
     "name": "stdout",
     "output_type": "stream",
     "text": [
      "Archive:  /content/imdb-dataset-of-50k-movie-reviews.zip\n",
      "  inflating: IMDB Dataset.csv        \n"
     ]
    }
   ],
   "source": [
    "!unzip \"/content/imdb-dataset-of-50k-movie-reviews.zip\""
   ]
  },
  {
   "cell_type": "code",
   "execution_count": null,
   "metadata": {
    "id": "y8xLN36tw7F3"
   },
   "outputs": [],
   "source": [
    "import pandas as pd\n",
    "data = pd.read_csv(\"/content/IMDB Dataset.csv\")"
   ]
  },
  {
   "cell_type": "code",
   "execution_count": null,
   "metadata": {
    "colab": {
     "base_uri": "https://localhost:8080/",
     "height": 206
    },
    "id": "oGw4dO2exEHA",
    "outputId": "1685af1a-9c70-4674-9fb5-84a1a238fb64"
   },
   "outputs": [
    {
     "data": {
      "application/vnd.google.colaboratory.intrinsic+json": {
       "summary": "{\n  \"name\": \"data\",\n  \"rows\": 50000,\n  \"fields\": [\n    {\n      \"column\": \"review\",\n      \"properties\": {\n        \"dtype\": \"string\",\n        \"num_unique_values\": 49582,\n        \"samples\": [\n          \"\\\"Soul Plane\\\" is a horrible attempt at comedy that only should appeal people with thick skulls, bloodshot eyes and furry pawns. <br /><br />The plot is not only incoherent but also non-existent, acting is mostly sub sub-par with a gang of highly moronic and dreadful characters thrown in for bad measure, jokes are often spotted miles ahead and almost never even a bit amusing. This movie lacks any structure and is full of racial stereotypes that must have seemed old even in the fifties, the only thing it really has going for it is some pretty ladies, but really, if you want that you can rent something from the \\\"Adult\\\" section. OK?<br /><br />I can hardly see anything here to recommend since you'll probably have a lot a better and productive time chasing rats with a sledgehammer or inventing waterproof teabags or whatever.<br /><br />2/10\",\n          \"Guest from the Future tells a fascinating story of time travel, friendship, battle of good and evil -- all with a small budget, child actors, and few special effects. Something for Spielberg and Lucas to learn from. ;) A sixth-grader Kolya \\\"Nick\\\" Gerasimov finds a time machine in the basement of a decrepit building and travels 100 years into the future. He discovers a near-perfect, utopian society where robots play guitars and write poetry, everyone is kind to each other and people enjoy everything technology has to offer. Alice is the daughter of a prominent scientist who invented a device called Mielophone that allows to read minds of humans and animals. The device can be put to both good and bad use, depending on whose hands it falls into. When two evil space pirates from Saturn who want to rule the universe attempt to steal Mielophone, it falls into the hands of 20th century school boy Nick. With the pirates hot on his tracks, he travels back to his time, followed by the pirates, and Alice. Chaos, confusion and funny situations follow as the luckless pirates try to blend in with the earthlings. Alice enrolls in the same school Nick goes to and demonstrates superhuman abilities in PE class. The catch is, Alice doesn't know what Nick looks like, while the pirates do. Also, the pirates are able to change their appearance and turn literally into anyone. (Hmm, I wonder if this is where James Cameron got the idea for Terminator...) Who gets to Nick -- and Mielophone -- first? Excellent plot, non-stop adventures, and great soundtrack. I wish Hollywood made kid movies like this one...\",\n          \"\\\"National Treasure\\\" (2004) is a thoroughly misguided hodge-podge of plot entanglements that borrow from nearly every cloak and dagger government conspiracy clich\\u00e9 that has ever been written. The film stars Nicholas Cage as Benjamin Franklin Gates (how precious is that, I ask you?); a seemingly normal fellow who, for no other reason than being of a lineage of like-minded misguided fortune hunters, decides to steal a 'national treasure' that has been hidden by the United States founding fathers. After a bit of subtext and background that plays laughably (unintentionally) like Indiana Jones meets The Patriot, the film degenerates into one misguided whimsy after another \\u0096 attempting to create a 'Stanley Goodspeed' regurgitation of Nicholas Cage and launch the whole convoluted mess forward with a series of high octane, but disconnected misadventures.<br /><br />The relevancy and logic to having George Washington and his motley crew of patriots burying a king's ransom someplace on native soil, and then, going through the meticulous plan of leaving clues scattered throughout U.S. currency art work, is something that director Jon Turteltaub never quite gets around to explaining. Couldn't Washington found better usage for such wealth during the start up of the country? Hence, we are left with a mystery built on top of an enigma that is already on shaky ground by the time Ben appoints himself the new custodian of this untold wealth. Ben's intentions are noble \\u0096 if confusing. He's set on protecting the treasure. For who and when?\\u0085your guess is as good as mine.<br /><br />But there are a few problems with Ben's crusade. First up, his friend, Ian Holmes (Sean Bean) decides that he can't wait for Ben to make up his mind about stealing the Declaration of Independence from the National Archives (oh, yeah \\u0096 brilliant idea!). Presumably, the back of that famous document holds the secret answer to the ultimate fortune. So Ian tries to kill Ben. The assassination attempt is, of course, unsuccessful, if overly melodramatic. It also affords Ben the opportunity to pick up, and pick on, the very sultry curator of the archives, Abigail Chase (Diane Kruger). She thinks Ben is clearly a nut \\u0096 at least at the beginning. But true to action/romance form, Abby's resolve melts quicker than you can say, \\\"is that the Hope Diamond?\\\" The film moves into full X-File-ish mode, as the FBI, mistakenly believing that Ben is behind the theft, retaliate in various benign ways that lead to a multi-layering of action sequences reminiscent of Mission Impossible meets The Fugitive. Honestly, don't those guys ever get 'intelligence' information that is correct? In the final analysis, \\\"National Treasure\\\" isn't great film making, so much as it's a patchwork rehash of tired old bits from other movies, woven together from scraps, the likes of which would make IL' Betsy Ross blush.<br /><br />The Buena Vista DVD delivers a far more generous treatment than this film is deserving of. The anamorphic widescreen picture exhibits a very smooth and finely detailed image with very rich colors, natural flesh tones, solid blacks and clean whites. The stylized image is also free of blemishes and digital enhancements. The audio is 5.1 and delivers a nice sonic boom to your side and rear speakers with intensity and realism. Extras include a host of promotional junket material that is rather deep and over the top in its explanation of how and why this film was made. If only, as an audience, we had had more clarification as to why Ben and co. were chasing after an illusive treasure, this might have been one good flick. Extras conclude with the theatrical trailer, audio commentary and deleted scenes. Not for the faint-hearted \\u0096 just the thick-headed.\"\n        ],\n        \"semantic_type\": \"\",\n        \"description\": \"\"\n      }\n    },\n    {\n      \"column\": \"sentiment\",\n      \"properties\": {\n        \"dtype\": \"category\",\n        \"num_unique_values\": 2,\n        \"samples\": [\n          \"negative\",\n          \"positive\"\n        ],\n        \"semantic_type\": \"\",\n        \"description\": \"\"\n      }\n    }\n  ]\n}",
       "type": "dataframe",
       "variable_name": "data"
      },
      "text/html": [
       "\n",
       "  <div id=\"df-fd78babd-7c69-4a95-8ef5-d8c3e4614183\" class=\"colab-df-container\">\n",
       "    <div>\n",
       "<style scoped>\n",
       "    .dataframe tbody tr th:only-of-type {\n",
       "        vertical-align: middle;\n",
       "    }\n",
       "\n",
       "    .dataframe tbody tr th {\n",
       "        vertical-align: top;\n",
       "    }\n",
       "\n",
       "    .dataframe thead th {\n",
       "        text-align: right;\n",
       "    }\n",
       "</style>\n",
       "<table border=\"1\" class=\"dataframe\">\n",
       "  <thead>\n",
       "    <tr style=\"text-align: right;\">\n",
       "      <th></th>\n",
       "      <th>review</th>\n",
       "      <th>sentiment</th>\n",
       "    </tr>\n",
       "  </thead>\n",
       "  <tbody>\n",
       "    <tr>\n",
       "      <th>0</th>\n",
       "      <td>One of the other reviewers has mentioned that ...</td>\n",
       "      <td>positive</td>\n",
       "    </tr>\n",
       "    <tr>\n",
       "      <th>1</th>\n",
       "      <td>A wonderful little production. &lt;br /&gt;&lt;br /&gt;The...</td>\n",
       "      <td>positive</td>\n",
       "    </tr>\n",
       "    <tr>\n",
       "      <th>2</th>\n",
       "      <td>I thought this was a wonderful way to spend ti...</td>\n",
       "      <td>positive</td>\n",
       "    </tr>\n",
       "    <tr>\n",
       "      <th>3</th>\n",
       "      <td>Basically there's a family where a little boy ...</td>\n",
       "      <td>negative</td>\n",
       "    </tr>\n",
       "    <tr>\n",
       "      <th>4</th>\n",
       "      <td>Petter Mattei's \"Love in the Time of Money\" is...</td>\n",
       "      <td>positive</td>\n",
       "    </tr>\n",
       "  </tbody>\n",
       "</table>\n",
       "</div>\n",
       "    <div class=\"colab-df-buttons\">\n",
       "\n",
       "  <div class=\"colab-df-container\">\n",
       "    <button class=\"colab-df-convert\" onclick=\"convertToInteractive('df-fd78babd-7c69-4a95-8ef5-d8c3e4614183')\"\n",
       "            title=\"Convert this dataframe to an interactive table.\"\n",
       "            style=\"display:none;\">\n",
       "\n",
       "  <svg xmlns=\"http://www.w3.org/2000/svg\" height=\"24px\" viewBox=\"0 -960 960 960\">\n",
       "    <path d=\"M120-120v-720h720v720H120Zm60-500h600v-160H180v160Zm220 220h160v-160H400v160Zm0 220h160v-160H400v160ZM180-400h160v-160H180v160Zm440 0h160v-160H620v160ZM180-180h160v-160H180v160Zm440 0h160v-160H620v160Z\"/>\n",
       "  </svg>\n",
       "    </button>\n",
       "\n",
       "  <style>\n",
       "    .colab-df-container {\n",
       "      display:flex;\n",
       "      gap: 12px;\n",
       "    }\n",
       "\n",
       "    .colab-df-convert {\n",
       "      background-color: #E8F0FE;\n",
       "      border: none;\n",
       "      border-radius: 50%;\n",
       "      cursor: pointer;\n",
       "      display: none;\n",
       "      fill: #1967D2;\n",
       "      height: 32px;\n",
       "      padding: 0 0 0 0;\n",
       "      width: 32px;\n",
       "    }\n",
       "\n",
       "    .colab-df-convert:hover {\n",
       "      background-color: #E2EBFA;\n",
       "      box-shadow: 0px 1px 2px rgba(60, 64, 67, 0.3), 0px 1px 3px 1px rgba(60, 64, 67, 0.15);\n",
       "      fill: #174EA6;\n",
       "    }\n",
       "\n",
       "    .colab-df-buttons div {\n",
       "      margin-bottom: 4px;\n",
       "    }\n",
       "\n",
       "    [theme=dark] .colab-df-convert {\n",
       "      background-color: #3B4455;\n",
       "      fill: #D2E3FC;\n",
       "    }\n",
       "\n",
       "    [theme=dark] .colab-df-convert:hover {\n",
       "      background-color: #434B5C;\n",
       "      box-shadow: 0px 1px 3px 1px rgba(0, 0, 0, 0.15);\n",
       "      filter: drop-shadow(0px 1px 2px rgba(0, 0, 0, 0.3));\n",
       "      fill: #FFFFFF;\n",
       "    }\n",
       "  </style>\n",
       "\n",
       "    <script>\n",
       "      const buttonEl =\n",
       "        document.querySelector('#df-fd78babd-7c69-4a95-8ef5-d8c3e4614183 button.colab-df-convert');\n",
       "      buttonEl.style.display =\n",
       "        google.colab.kernel.accessAllowed ? 'block' : 'none';\n",
       "\n",
       "      async function convertToInteractive(key) {\n",
       "        const element = document.querySelector('#df-fd78babd-7c69-4a95-8ef5-d8c3e4614183');\n",
       "        const dataTable =\n",
       "          await google.colab.kernel.invokeFunction('convertToInteractive',\n",
       "                                                    [key], {});\n",
       "        if (!dataTable) return;\n",
       "\n",
       "        const docLinkHtml = 'Like what you see? Visit the ' +\n",
       "          '<a target=\"_blank\" href=https://colab.research.google.com/notebooks/data_table.ipynb>data table notebook</a>'\n",
       "          + ' to learn more about interactive tables.';\n",
       "        element.innerHTML = '';\n",
       "        dataTable['output_type'] = 'display_data';\n",
       "        await google.colab.output.renderOutput(dataTable, element);\n",
       "        const docLink = document.createElement('div');\n",
       "        docLink.innerHTML = docLinkHtml;\n",
       "        element.appendChild(docLink);\n",
       "      }\n",
       "    </script>\n",
       "  </div>\n",
       "\n",
       "\n",
       "<div id=\"df-918f7278-babc-454f-8c44-16ba02b74a34\">\n",
       "  <button class=\"colab-df-quickchart\" onclick=\"quickchart('df-918f7278-babc-454f-8c44-16ba02b74a34')\"\n",
       "            title=\"Suggest charts\"\n",
       "            style=\"display:none;\">\n",
       "\n",
       "<svg xmlns=\"http://www.w3.org/2000/svg\" height=\"24px\"viewBox=\"0 0 24 24\"\n",
       "     width=\"24px\">\n",
       "    <g>\n",
       "        <path d=\"M19 3H5c-1.1 0-2 .9-2 2v14c0 1.1.9 2 2 2h14c1.1 0 2-.9 2-2V5c0-1.1-.9-2-2-2zM9 17H7v-7h2v7zm4 0h-2V7h2v10zm4 0h-2v-4h2v4z\"/>\n",
       "    </g>\n",
       "</svg>\n",
       "  </button>\n",
       "\n",
       "<style>\n",
       "  .colab-df-quickchart {\n",
       "      --bg-color: #E8F0FE;\n",
       "      --fill-color: #1967D2;\n",
       "      --hover-bg-color: #E2EBFA;\n",
       "      --hover-fill-color: #174EA6;\n",
       "      --disabled-fill-color: #AAA;\n",
       "      --disabled-bg-color: #DDD;\n",
       "  }\n",
       "\n",
       "  [theme=dark] .colab-df-quickchart {\n",
       "      --bg-color: #3B4455;\n",
       "      --fill-color: #D2E3FC;\n",
       "      --hover-bg-color: #434B5C;\n",
       "      --hover-fill-color: #FFFFFF;\n",
       "      --disabled-bg-color: #3B4455;\n",
       "      --disabled-fill-color: #666;\n",
       "  }\n",
       "\n",
       "  .colab-df-quickchart {\n",
       "    background-color: var(--bg-color);\n",
       "    border: none;\n",
       "    border-radius: 50%;\n",
       "    cursor: pointer;\n",
       "    display: none;\n",
       "    fill: var(--fill-color);\n",
       "    height: 32px;\n",
       "    padding: 0;\n",
       "    width: 32px;\n",
       "  }\n",
       "\n",
       "  .colab-df-quickchart:hover {\n",
       "    background-color: var(--hover-bg-color);\n",
       "    box-shadow: 0 1px 2px rgba(60, 64, 67, 0.3), 0 1px 3px 1px rgba(60, 64, 67, 0.15);\n",
       "    fill: var(--button-hover-fill-color);\n",
       "  }\n",
       "\n",
       "  .colab-df-quickchart-complete:disabled,\n",
       "  .colab-df-quickchart-complete:disabled:hover {\n",
       "    background-color: var(--disabled-bg-color);\n",
       "    fill: var(--disabled-fill-color);\n",
       "    box-shadow: none;\n",
       "  }\n",
       "\n",
       "  .colab-df-spinner {\n",
       "    border: 2px solid var(--fill-color);\n",
       "    border-color: transparent;\n",
       "    border-bottom-color: var(--fill-color);\n",
       "    animation:\n",
       "      spin 1s steps(1) infinite;\n",
       "  }\n",
       "\n",
       "  @keyframes spin {\n",
       "    0% {\n",
       "      border-color: transparent;\n",
       "      border-bottom-color: var(--fill-color);\n",
       "      border-left-color: var(--fill-color);\n",
       "    }\n",
       "    20% {\n",
       "      border-color: transparent;\n",
       "      border-left-color: var(--fill-color);\n",
       "      border-top-color: var(--fill-color);\n",
       "    }\n",
       "    30% {\n",
       "      border-color: transparent;\n",
       "      border-left-color: var(--fill-color);\n",
       "      border-top-color: var(--fill-color);\n",
       "      border-right-color: var(--fill-color);\n",
       "    }\n",
       "    40% {\n",
       "      border-color: transparent;\n",
       "      border-right-color: var(--fill-color);\n",
       "      border-top-color: var(--fill-color);\n",
       "    }\n",
       "    60% {\n",
       "      border-color: transparent;\n",
       "      border-right-color: var(--fill-color);\n",
       "    }\n",
       "    80% {\n",
       "      border-color: transparent;\n",
       "      border-right-color: var(--fill-color);\n",
       "      border-bottom-color: var(--fill-color);\n",
       "    }\n",
       "    90% {\n",
       "      border-color: transparent;\n",
       "      border-bottom-color: var(--fill-color);\n",
       "    }\n",
       "  }\n",
       "</style>\n",
       "\n",
       "  <script>\n",
       "    async function quickchart(key) {\n",
       "      const quickchartButtonEl =\n",
       "        document.querySelector('#' + key + ' button');\n",
       "      quickchartButtonEl.disabled = true;  // To prevent multiple clicks.\n",
       "      quickchartButtonEl.classList.add('colab-df-spinner');\n",
       "      try {\n",
       "        const charts = await google.colab.kernel.invokeFunction(\n",
       "            'suggestCharts', [key], {});\n",
       "      } catch (error) {\n",
       "        console.error('Error during call to suggestCharts:', error);\n",
       "      }\n",
       "      quickchartButtonEl.classList.remove('colab-df-spinner');\n",
       "      quickchartButtonEl.classList.add('colab-df-quickchart-complete');\n",
       "    }\n",
       "    (() => {\n",
       "      let quickchartButtonEl =\n",
       "        document.querySelector('#df-918f7278-babc-454f-8c44-16ba02b74a34 button');\n",
       "      quickchartButtonEl.style.display =\n",
       "        google.colab.kernel.accessAllowed ? 'block' : 'none';\n",
       "    })();\n",
       "  </script>\n",
       "</div>\n",
       "\n",
       "    </div>\n",
       "  </div>\n"
      ],
      "text/plain": [
       "                                              review sentiment\n",
       "0  One of the other reviewers has mentioned that ...  positive\n",
       "1  A wonderful little production. <br /><br />The...  positive\n",
       "2  I thought this was a wonderful way to spend ti...  positive\n",
       "3  Basically there's a family where a little boy ...  negative\n",
       "4  Petter Mattei's \"Love in the Time of Money\" is...  positive"
      ]
     },
     "execution_count": 5,
     "metadata": {},
     "output_type": "execute_result"
    }
   ],
   "source": [
    "data.head()"
   ]
  },
  {
   "cell_type": "code",
   "execution_count": null,
   "metadata": {
    "colab": {
     "base_uri": "https://localhost:8080/",
     "height": 174
    },
    "id": "2mLDQoPVxJeG",
    "outputId": "a0de4c50-3877-4ecc-e0c4-4b4bc582ec12"
   },
   "outputs": [
    {
     "data": {
      "application/vnd.google.colaboratory.intrinsic+json": {
       "type": "string"
      },
      "text/plain": [
       "\"One of the other reviewers has mentioned that after watching just 1 Oz episode you'll be hooked. They are right, as this is exactly what happened with me.<br /><br />The first thing that struck me about Oz was its brutality and unflinching scenes of violence, which set in right from the word GO. Trust me, this is not a show for the faint hearted or timid. This show pulls no punches with regards to drugs, sex or violence. Its is hardcore, in the classic use of the word.<br /><br />It is called OZ as that is the nickname given to the Oswald Maximum Security State Penitentary. It focuses mainly on Emerald City, an experimental section of the prison where all the cells have glass fronts and face inwards, so privacy is not high on the agenda. Em City is home to many..Aryans, Muslims, gangstas, Latinos, Christians, Italians, Irish and more....so scuffles, death stares, dodgy dealings and shady agreements are never far away.<br /><br />I would say the main appeal of the show is due to the fact that it goes where other shows wouldn't dare. Forget pretty pictures painted for mainstream audiences, forget charm, forget romance...OZ doesn't mess around. The first episode I ever saw struck me as so nasty it was surreal, I couldn't say I was ready for it, but as I watched more, I developed a taste for Oz, and got accustomed to the high levels of graphic violence. Not just violence, but injustice (crooked guards who'll be sold out for a nickel, inmates who'll kill on order and get away with it, well mannered, middle class inmates being turned into prison bitches due to their lack of street skills or prison experience) Watching Oz, you may become comfortable with what is uncomfortable viewing....thats if you can get in touch with your darker side.\""
      ]
     },
     "execution_count": 6,
     "metadata": {},
     "output_type": "execute_result"
    }
   ],
   "source": [
    "data['review'][0]"
   ]
  },
  {
   "cell_type": "code",
   "execution_count": null,
   "metadata": {
    "colab": {
     "base_uri": "https://localhost:8080/"
    },
    "id": "Djo9Ioi7yWws",
    "outputId": "a38bb4aa-bde3-42f2-dca2-d9ac3590ac49"
   },
   "outputs": [
    {
     "data": {
      "text/plain": [
       "(50000, 2)"
      ]
     },
     "execution_count": 7,
     "metadata": {},
     "output_type": "execute_result"
    }
   ],
   "source": [
    "data.shape"
   ]
  },
  {
   "cell_type": "code",
   "execution_count": null,
   "metadata": {
    "colab": {
     "base_uri": "https://localhost:8080/"
    },
    "id": "JqD4bdHcykoX",
    "outputId": "2bec19ff-0535-4f30-f8bf-8118d59b002a"
   },
   "outputs": [
    {
     "name": "stdout",
     "output_type": "stream",
     "text": [
      "<class 'pandas.core.frame.DataFrame'>\n",
      "RangeIndex: 50000 entries, 0 to 49999\n",
      "Data columns (total 2 columns):\n",
      " #   Column     Non-Null Count  Dtype \n",
      "---  ------     --------------  ----- \n",
      " 0   review     50000 non-null  object\n",
      " 1   sentiment  50000 non-null  object\n",
      "dtypes: object(2)\n",
      "memory usage: 781.4+ KB\n"
     ]
    }
   ],
   "source": [
    "data.info()"
   ]
  },
  {
   "cell_type": "code",
   "execution_count": null,
   "metadata": {
    "colab": {
     "base_uri": "https://localhost:8080/"
    },
    "id": "5vavroY0ynqN",
    "outputId": "898d57d0-c5bb-4764-84e3-fcea602db454"
   },
   "outputs": [
    {
     "data": {
      "text/plain": [
       "sentiment\n",
       "positive    25000\n",
       "negative    25000\n",
       "Name: count, dtype: int64"
      ]
     },
     "execution_count": 9,
     "metadata": {},
     "output_type": "execute_result"
    }
   ],
   "source": [
    "data['sentiment'].value_counts()"
   ]
  },
  {
   "cell_type": "markdown",
   "metadata": {
    "id": "j8UYvI740ui6"
   },
   "source": [
    "## Pre-processing Steps"
   ]
  },
  {
   "cell_type": "markdown",
   "metadata": {
    "id": "ggbBWIzL1WH0"
   },
   "source": [
    "### Convert Text to lowercase"
   ]
  },
  {
   "cell_type": "code",
   "execution_count": null,
   "metadata": {
    "id": "sIW4xSKw0w6P"
   },
   "outputs": [],
   "source": [
    "data['review'] = data['review'].str.lower()"
   ]
  },
  {
   "cell_type": "code",
   "execution_count": null,
   "metadata": {
    "colab": {
     "base_uri": "https://localhost:8080/",
     "height": 206
    },
    "id": "9cEkLe2lUxNK",
    "outputId": "e5ff6721-64e4-411c-f76a-bea182e7b1b4"
   },
   "outputs": [
    {
     "data": {
      "application/vnd.google.colaboratory.intrinsic+json": {
       "summary": "{\n  \"name\": \"data\",\n  \"rows\": 50000,\n  \"fields\": [\n    {\n      \"column\": \"review\",\n      \"properties\": {\n        \"dtype\": \"string\",\n        \"num_unique_values\": 49582,\n        \"samples\": [\n          \"\\\"soul plane\\\" is a horrible attempt at comedy that only should appeal people with thick skulls, bloodshot eyes and furry pawns. <br /><br />the plot is not only incoherent but also non-existent, acting is mostly sub sub-par with a gang of highly moronic and dreadful characters thrown in for bad measure, jokes are often spotted miles ahead and almost never even a bit amusing. this movie lacks any structure and is full of racial stereotypes that must have seemed old even in the fifties, the only thing it really has going for it is some pretty ladies, but really, if you want that you can rent something from the \\\"adult\\\" section. ok?<br /><br />i can hardly see anything here to recommend since you'll probably have a lot a better and productive time chasing rats with a sledgehammer or inventing waterproof teabags or whatever.<br /><br />2/10\",\n          \"guest from the future tells a fascinating story of time travel, friendship, battle of good and evil -- all with a small budget, child actors, and few special effects. something for spielberg and lucas to learn from. ;) a sixth-grader kolya \\\"nick\\\" gerasimov finds a time machine in the basement of a decrepit building and travels 100 years into the future. he discovers a near-perfect, utopian society where robots play guitars and write poetry, everyone is kind to each other and people enjoy everything technology has to offer. alice is the daughter of a prominent scientist who invented a device called mielophone that allows to read minds of humans and animals. the device can be put to both good and bad use, depending on whose hands it falls into. when two evil space pirates from saturn who want to rule the universe attempt to steal mielophone, it falls into the hands of 20th century school boy nick. with the pirates hot on his tracks, he travels back to his time, followed by the pirates, and alice. chaos, confusion and funny situations follow as the luckless pirates try to blend in with the earthlings. alice enrolls in the same school nick goes to and demonstrates superhuman abilities in pe class. the catch is, alice doesn't know what nick looks like, while the pirates do. also, the pirates are able to change their appearance and turn literally into anyone. (hmm, i wonder if this is where james cameron got the idea for terminator...) who gets to nick -- and mielophone -- first? excellent plot, non-stop adventures, and great soundtrack. i wish hollywood made kid movies like this one...\",\n          \"\\\"national treasure\\\" (2004) is a thoroughly misguided hodge-podge of plot entanglements that borrow from nearly every cloak and dagger government conspiracy clich\\u00e9 that has ever been written. the film stars nicholas cage as benjamin franklin gates (how precious is that, i ask you?); a seemingly normal fellow who, for no other reason than being of a lineage of like-minded misguided fortune hunters, decides to steal a 'national treasure' that has been hidden by the united states founding fathers. after a bit of subtext and background that plays laughably (unintentionally) like indiana jones meets the patriot, the film degenerates into one misguided whimsy after another \\u0096 attempting to create a 'stanley goodspeed' regurgitation of nicholas cage and launch the whole convoluted mess forward with a series of high octane, but disconnected misadventures.<br /><br />the relevancy and logic to having george washington and his motley crew of patriots burying a king's ransom someplace on native soil, and then, going through the meticulous plan of leaving clues scattered throughout u.s. currency art work, is something that director jon turteltaub never quite gets around to explaining. couldn't washington found better usage for such wealth during the start up of the country? hence, we are left with a mystery built on top of an enigma that is already on shaky ground by the time ben appoints himself the new custodian of this untold wealth. ben's intentions are noble \\u0096 if confusing. he's set on protecting the treasure. for who and when?\\u0085your guess is as good as mine.<br /><br />but there are a few problems with ben's crusade. first up, his friend, ian holmes (sean bean) decides that he can't wait for ben to make up his mind about stealing the declaration of independence from the national archives (oh, yeah \\u0096 brilliant idea!). presumably, the back of that famous document holds the secret answer to the ultimate fortune. so ian tries to kill ben. the assassination attempt is, of course, unsuccessful, if overly melodramatic. it also affords ben the opportunity to pick up, and pick on, the very sultry curator of the archives, abigail chase (diane kruger). she thinks ben is clearly a nut \\u0096 at least at the beginning. but true to action/romance form, abby's resolve melts quicker than you can say, \\\"is that the hope diamond?\\\" the film moves into full x-file-ish mode, as the fbi, mistakenly believing that ben is behind the theft, retaliate in various benign ways that lead to a multi-layering of action sequences reminiscent of mission impossible meets the fugitive. honestly, don't those guys ever get 'intelligence' information that is correct? in the final analysis, \\\"national treasure\\\" isn't great film making, so much as it's a patchwork rehash of tired old bits from other movies, woven together from scraps, the likes of which would make il' betsy ross blush.<br /><br />the buena vista dvd delivers a far more generous treatment than this film is deserving of. the anamorphic widescreen picture exhibits a very smooth and finely detailed image with very rich colors, natural flesh tones, solid blacks and clean whites. the stylized image is also free of blemishes and digital enhancements. the audio is 5.1 and delivers a nice sonic boom to your side and rear speakers with intensity and realism. extras include a host of promotional junket material that is rather deep and over the top in its explanation of how and why this film was made. if only, as an audience, we had had more clarification as to why ben and co. were chasing after an illusive treasure, this might have been one good flick. extras conclude with the theatrical trailer, audio commentary and deleted scenes. not for the faint-hearted \\u0096 just the thick-headed.\"\n        ],\n        \"semantic_type\": \"\",\n        \"description\": \"\"\n      }\n    },\n    {\n      \"column\": \"sentiment\",\n      \"properties\": {\n        \"dtype\": \"category\",\n        \"num_unique_values\": 2,\n        \"samples\": [\n          \"negative\",\n          \"positive\"\n        ],\n        \"semantic_type\": \"\",\n        \"description\": \"\"\n      }\n    }\n  ]\n}",
       "type": "dataframe",
       "variable_name": "data"
      },
      "text/html": [
       "\n",
       "  <div id=\"df-cbd3147b-0798-442d-b474-173066761fcc\" class=\"colab-df-container\">\n",
       "    <div>\n",
       "<style scoped>\n",
       "    .dataframe tbody tr th:only-of-type {\n",
       "        vertical-align: middle;\n",
       "    }\n",
       "\n",
       "    .dataframe tbody tr th {\n",
       "        vertical-align: top;\n",
       "    }\n",
       "\n",
       "    .dataframe thead th {\n",
       "        text-align: right;\n",
       "    }\n",
       "</style>\n",
       "<table border=\"1\" class=\"dataframe\">\n",
       "  <thead>\n",
       "    <tr style=\"text-align: right;\">\n",
       "      <th></th>\n",
       "      <th>review</th>\n",
       "      <th>sentiment</th>\n",
       "    </tr>\n",
       "  </thead>\n",
       "  <tbody>\n",
       "    <tr>\n",
       "      <th>0</th>\n",
       "      <td>one of the other reviewers has mentioned that ...</td>\n",
       "      <td>positive</td>\n",
       "    </tr>\n",
       "    <tr>\n",
       "      <th>1</th>\n",
       "      <td>a wonderful little production. &lt;br /&gt;&lt;br /&gt;the...</td>\n",
       "      <td>positive</td>\n",
       "    </tr>\n",
       "    <tr>\n",
       "      <th>2</th>\n",
       "      <td>i thought this was a wonderful way to spend ti...</td>\n",
       "      <td>positive</td>\n",
       "    </tr>\n",
       "    <tr>\n",
       "      <th>3</th>\n",
       "      <td>basically there's a family where a little boy ...</td>\n",
       "      <td>negative</td>\n",
       "    </tr>\n",
       "    <tr>\n",
       "      <th>4</th>\n",
       "      <td>petter mattei's \"love in the time of money\" is...</td>\n",
       "      <td>positive</td>\n",
       "    </tr>\n",
       "  </tbody>\n",
       "</table>\n",
       "</div>\n",
       "    <div class=\"colab-df-buttons\">\n",
       "\n",
       "  <div class=\"colab-df-container\">\n",
       "    <button class=\"colab-df-convert\" onclick=\"convertToInteractive('df-cbd3147b-0798-442d-b474-173066761fcc')\"\n",
       "            title=\"Convert this dataframe to an interactive table.\"\n",
       "            style=\"display:none;\">\n",
       "\n",
       "  <svg xmlns=\"http://www.w3.org/2000/svg\" height=\"24px\" viewBox=\"0 -960 960 960\">\n",
       "    <path d=\"M120-120v-720h720v720H120Zm60-500h600v-160H180v160Zm220 220h160v-160H400v160Zm0 220h160v-160H400v160ZM180-400h160v-160H180v160Zm440 0h160v-160H620v160ZM180-180h160v-160H180v160Zm440 0h160v-160H620v160Z\"/>\n",
       "  </svg>\n",
       "    </button>\n",
       "\n",
       "  <style>\n",
       "    .colab-df-container {\n",
       "      display:flex;\n",
       "      gap: 12px;\n",
       "    }\n",
       "\n",
       "    .colab-df-convert {\n",
       "      background-color: #E8F0FE;\n",
       "      border: none;\n",
       "      border-radius: 50%;\n",
       "      cursor: pointer;\n",
       "      display: none;\n",
       "      fill: #1967D2;\n",
       "      height: 32px;\n",
       "      padding: 0 0 0 0;\n",
       "      width: 32px;\n",
       "    }\n",
       "\n",
       "    .colab-df-convert:hover {\n",
       "      background-color: #E2EBFA;\n",
       "      box-shadow: 0px 1px 2px rgba(60, 64, 67, 0.3), 0px 1px 3px 1px rgba(60, 64, 67, 0.15);\n",
       "      fill: #174EA6;\n",
       "    }\n",
       "\n",
       "    .colab-df-buttons div {\n",
       "      margin-bottom: 4px;\n",
       "    }\n",
       "\n",
       "    [theme=dark] .colab-df-convert {\n",
       "      background-color: #3B4455;\n",
       "      fill: #D2E3FC;\n",
       "    }\n",
       "\n",
       "    [theme=dark] .colab-df-convert:hover {\n",
       "      background-color: #434B5C;\n",
       "      box-shadow: 0px 1px 3px 1px rgba(0, 0, 0, 0.15);\n",
       "      filter: drop-shadow(0px 1px 2px rgba(0, 0, 0, 0.3));\n",
       "      fill: #FFFFFF;\n",
       "    }\n",
       "  </style>\n",
       "\n",
       "    <script>\n",
       "      const buttonEl =\n",
       "        document.querySelector('#df-cbd3147b-0798-442d-b474-173066761fcc button.colab-df-convert');\n",
       "      buttonEl.style.display =\n",
       "        google.colab.kernel.accessAllowed ? 'block' : 'none';\n",
       "\n",
       "      async function convertToInteractive(key) {\n",
       "        const element = document.querySelector('#df-cbd3147b-0798-442d-b474-173066761fcc');\n",
       "        const dataTable =\n",
       "          await google.colab.kernel.invokeFunction('convertToInteractive',\n",
       "                                                    [key], {});\n",
       "        if (!dataTable) return;\n",
       "\n",
       "        const docLinkHtml = 'Like what you see? Visit the ' +\n",
       "          '<a target=\"_blank\" href=https://colab.research.google.com/notebooks/data_table.ipynb>data table notebook</a>'\n",
       "          + ' to learn more about interactive tables.';\n",
       "        element.innerHTML = '';\n",
       "        dataTable['output_type'] = 'display_data';\n",
       "        await google.colab.output.renderOutput(dataTable, element);\n",
       "        const docLink = document.createElement('div');\n",
       "        docLink.innerHTML = docLinkHtml;\n",
       "        element.appendChild(docLink);\n",
       "      }\n",
       "    </script>\n",
       "  </div>\n",
       "\n",
       "\n",
       "<div id=\"df-dfc0636d-53fe-4128-807b-7879621c7e38\">\n",
       "  <button class=\"colab-df-quickchart\" onclick=\"quickchart('df-dfc0636d-53fe-4128-807b-7879621c7e38')\"\n",
       "            title=\"Suggest charts\"\n",
       "            style=\"display:none;\">\n",
       "\n",
       "<svg xmlns=\"http://www.w3.org/2000/svg\" height=\"24px\"viewBox=\"0 0 24 24\"\n",
       "     width=\"24px\">\n",
       "    <g>\n",
       "        <path d=\"M19 3H5c-1.1 0-2 .9-2 2v14c0 1.1.9 2 2 2h14c1.1 0 2-.9 2-2V5c0-1.1-.9-2-2-2zM9 17H7v-7h2v7zm4 0h-2V7h2v10zm4 0h-2v-4h2v4z\"/>\n",
       "    </g>\n",
       "</svg>\n",
       "  </button>\n",
       "\n",
       "<style>\n",
       "  .colab-df-quickchart {\n",
       "      --bg-color: #E8F0FE;\n",
       "      --fill-color: #1967D2;\n",
       "      --hover-bg-color: #E2EBFA;\n",
       "      --hover-fill-color: #174EA6;\n",
       "      --disabled-fill-color: #AAA;\n",
       "      --disabled-bg-color: #DDD;\n",
       "  }\n",
       "\n",
       "  [theme=dark] .colab-df-quickchart {\n",
       "      --bg-color: #3B4455;\n",
       "      --fill-color: #D2E3FC;\n",
       "      --hover-bg-color: #434B5C;\n",
       "      --hover-fill-color: #FFFFFF;\n",
       "      --disabled-bg-color: #3B4455;\n",
       "      --disabled-fill-color: #666;\n",
       "  }\n",
       "\n",
       "  .colab-df-quickchart {\n",
       "    background-color: var(--bg-color);\n",
       "    border: none;\n",
       "    border-radius: 50%;\n",
       "    cursor: pointer;\n",
       "    display: none;\n",
       "    fill: var(--fill-color);\n",
       "    height: 32px;\n",
       "    padding: 0;\n",
       "    width: 32px;\n",
       "  }\n",
       "\n",
       "  .colab-df-quickchart:hover {\n",
       "    background-color: var(--hover-bg-color);\n",
       "    box-shadow: 0 1px 2px rgba(60, 64, 67, 0.3), 0 1px 3px 1px rgba(60, 64, 67, 0.15);\n",
       "    fill: var(--button-hover-fill-color);\n",
       "  }\n",
       "\n",
       "  .colab-df-quickchart-complete:disabled,\n",
       "  .colab-df-quickchart-complete:disabled:hover {\n",
       "    background-color: var(--disabled-bg-color);\n",
       "    fill: var(--disabled-fill-color);\n",
       "    box-shadow: none;\n",
       "  }\n",
       "\n",
       "  .colab-df-spinner {\n",
       "    border: 2px solid var(--fill-color);\n",
       "    border-color: transparent;\n",
       "    border-bottom-color: var(--fill-color);\n",
       "    animation:\n",
       "      spin 1s steps(1) infinite;\n",
       "  }\n",
       "\n",
       "  @keyframes spin {\n",
       "    0% {\n",
       "      border-color: transparent;\n",
       "      border-bottom-color: var(--fill-color);\n",
       "      border-left-color: var(--fill-color);\n",
       "    }\n",
       "    20% {\n",
       "      border-color: transparent;\n",
       "      border-left-color: var(--fill-color);\n",
       "      border-top-color: var(--fill-color);\n",
       "    }\n",
       "    30% {\n",
       "      border-color: transparent;\n",
       "      border-left-color: var(--fill-color);\n",
       "      border-top-color: var(--fill-color);\n",
       "      border-right-color: var(--fill-color);\n",
       "    }\n",
       "    40% {\n",
       "      border-color: transparent;\n",
       "      border-right-color: var(--fill-color);\n",
       "      border-top-color: var(--fill-color);\n",
       "    }\n",
       "    60% {\n",
       "      border-color: transparent;\n",
       "      border-right-color: var(--fill-color);\n",
       "    }\n",
       "    80% {\n",
       "      border-color: transparent;\n",
       "      border-right-color: var(--fill-color);\n",
       "      border-bottom-color: var(--fill-color);\n",
       "    }\n",
       "    90% {\n",
       "      border-color: transparent;\n",
       "      border-bottom-color: var(--fill-color);\n",
       "    }\n",
       "  }\n",
       "</style>\n",
       "\n",
       "  <script>\n",
       "    async function quickchart(key) {\n",
       "      const quickchartButtonEl =\n",
       "        document.querySelector('#' + key + ' button');\n",
       "      quickchartButtonEl.disabled = true;  // To prevent multiple clicks.\n",
       "      quickchartButtonEl.classList.add('colab-df-spinner');\n",
       "      try {\n",
       "        const charts = await google.colab.kernel.invokeFunction(\n",
       "            'suggestCharts', [key], {});\n",
       "      } catch (error) {\n",
       "        console.error('Error during call to suggestCharts:', error);\n",
       "      }\n",
       "      quickchartButtonEl.classList.remove('colab-df-spinner');\n",
       "      quickchartButtonEl.classList.add('colab-df-quickchart-complete');\n",
       "    }\n",
       "    (() => {\n",
       "      let quickchartButtonEl =\n",
       "        document.querySelector('#df-dfc0636d-53fe-4128-807b-7879621c7e38 button');\n",
       "      quickchartButtonEl.style.display =\n",
       "        google.colab.kernel.accessAllowed ? 'block' : 'none';\n",
       "    })();\n",
       "  </script>\n",
       "</div>\n",
       "\n",
       "    </div>\n",
       "  </div>\n"
      ],
      "text/plain": [
       "                                              review sentiment\n",
       "0  one of the other reviewers has mentioned that ...  positive\n",
       "1  a wonderful little production. <br /><br />the...  positive\n",
       "2  i thought this was a wonderful way to spend ti...  positive\n",
       "3  basically there's a family where a little boy ...  negative\n",
       "4  petter mattei's \"love in the time of money\" is...  positive"
      ]
     },
     "execution_count": 11,
     "metadata": {},
     "output_type": "execute_result"
    }
   ],
   "source": [
    "data.head()"
   ]
  },
  {
   "cell_type": "markdown",
   "metadata": {
    "id": "6aDuZYLf1agN"
   },
   "source": [
    "### Remove all html tags"
   ]
  },
  {
   "cell_type": "code",
   "execution_count": null,
   "metadata": {
    "colab": {
     "base_uri": "https://localhost:8080/"
    },
    "id": "qLbDKWO71c02",
    "outputId": "f8ee6960-2b48-423f-dbc4-058cbf41cdb3"
   },
   "outputs": [
    {
     "data": {
      "text/plain": [
       "27"
      ]
     },
     "execution_count": 12,
     "metadata": {},
     "output_type": "execute_result"
    }
   ],
   "source": [
    "data['review'].str.contains('html').sum()"
   ]
  },
  {
   "cell_type": "code",
   "execution_count": null,
   "metadata": {
    "id": "PjBUnfvF1njM"
   },
   "outputs": [],
   "source": [
    "import re\n",
    "def remove_html_tags(reviews):\n",
    "    return re.sub(r'<[^<]+?>', '', reviews)\n",
    "\n",
    "data['review'] = data['review'].apply(remove_html_tags)"
   ]
  },
  {
   "cell_type": "code",
   "execution_count": null,
   "metadata": {
    "colab": {
     "base_uri": "https://localhost:8080/"
    },
    "id": "a15etT4t12dF",
    "outputId": "3fedb708-ffae-4c5a-a985-a5f6c77000f2"
   },
   "outputs": [
    {
     "data": {
      "text/plain": [
       "0    one of the other reviewers has mentioned that ...\n",
       "1    a wonderful little production. the filming tec...\n",
       "2    i thought this was a wonderful way to spend ti...\n",
       "3    basically there's a family where a little boy ...\n",
       "4    petter mattei's \"love in the time of money\" is...\n",
       "Name: review, dtype: object"
      ]
     },
     "execution_count": 14,
     "metadata": {},
     "output_type": "execute_result"
    }
   ],
   "source": [
    "data['review'].head()"
   ]
  },
  {
   "cell_type": "markdown",
   "metadata": {
    "id": "WhxFucO72h6V"
   },
   "source": [
    "### Remove URLs"
   ]
  },
  {
   "cell_type": "code",
   "execution_count": null,
   "metadata": {
    "colab": {
     "base_uri": "https://localhost:8080/"
    },
    "id": "CUS6H4h-2jz0",
    "outputId": "76267d84-03a2-4f3c-e7ea-8cbc08f1b2ad"
   },
   "outputs": [
    {
     "data": {
      "text/plain": [
       "187"
      ]
     },
     "execution_count": 15,
     "metadata": {},
     "output_type": "execute_result"
    }
   ],
   "source": [
    "data['review'].str.contains('www').sum()"
   ]
  },
  {
   "cell_type": "code",
   "execution_count": null,
   "metadata": {
    "id": "G0roSw6_2rsP"
   },
   "outputs": [],
   "source": [
    "import re\n",
    "\n",
    "def remove_url(text):\n",
    "    return re.sub(r'http[s]?://\\S+|www\\.\\S+', '', text)"
   ]
  },
  {
   "cell_type": "code",
   "execution_count": null,
   "metadata": {
    "id": "EAFqOLP62wUu"
   },
   "outputs": [],
   "source": [
    "data['review'] = data['review'].apply(remove_url)"
   ]
  },
  {
   "cell_type": "markdown",
   "metadata": {
    "id": "C6v-D_0j3ycP"
   },
   "source": [
    "### Remove all the punctuations"
   ]
  },
  {
   "cell_type": "code",
   "execution_count": null,
   "metadata": {
    "colab": {
     "base_uri": "https://localhost:8080/",
     "height": 35
    },
    "id": "SNKhSU3e31bp",
    "outputId": "1f07db5c-2e72-4375-c04f-f7ac20d59c96"
   },
   "outputs": [
    {
     "data": {
      "application/vnd.google.colaboratory.intrinsic+json": {
       "type": "string"
      },
      "text/plain": [
       "'!\"#$%&\\'()*+,-./:;<=>?@[\\\\]^_`{|}~'"
      ]
     },
     "execution_count": 18,
     "metadata": {},
     "output_type": "execute_result"
    }
   ],
   "source": [
    "import string\n",
    "string.punctuation"
   ]
  },
  {
   "cell_type": "code",
   "execution_count": null,
   "metadata": {
    "id": "VDfVxKOo34kV"
   },
   "outputs": [],
   "source": [
    "exclude  = string.punctuation\n",
    "\n",
    "def remove_punctuation(text):\n",
    "    for char in exclude:\n",
    "        text = text.replace(char, '')\n",
    "    return text"
   ]
  },
  {
   "cell_type": "code",
   "execution_count": null,
   "metadata": {
    "colab": {
     "base_uri": "https://localhost:8080/",
     "height": 140
    },
    "id": "_dCvUDkk4I2j",
    "outputId": "4f070fdd-1562-41bc-b760-82c135eab8d4"
   },
   "outputs": [
    {
     "data": {
      "application/vnd.google.colaboratory.intrinsic+json": {
       "type": "string"
      },
      "text/plain": [
       "'petter mattei\\'s \"love in the time of money\" is a visually stunning film to watch. mr. mattei offers us a vivid portrait about human relations. this is a movie that seems to be telling us what money, power and success do to people in the different situations we encounter. this being a variation on the arthur schnitzler\\'s play about the same theme, the director transfers the action to the present time new york where all these different characters meet and connect. each one is connected in one way, or another to the next person, but no one seems to know the previous point of contact. stylishly, the film has a sophisticated luxurious look. we are taken to see how these people live and the world they live in their own habitat.the only thing one gets out of all these souls in the picture is the different stages of loneliness each one inhabits. a big city is not exactly the best place in which human relations find sincere fulfillment, as one discerns is the case with most of the people we encounter.the acting is good under mr. mattei\\'s direction. steve buscemi, rosario dawson, carol kane, michael imperioli, adrian grenier, and the rest of the talented cast, make these characters come alive.we wish mr. mattei good luck and await anxiously for his next work.'"
      ]
     },
     "execution_count": 20,
     "metadata": {},
     "output_type": "execute_result"
    }
   ],
   "source": [
    "data['review'][4]"
   ]
  },
  {
   "cell_type": "code",
   "execution_count": null,
   "metadata": {
    "id": "QU8h-8jt4AAe"
   },
   "outputs": [],
   "source": [
    "data['review'] = data['review'].apply(remove_punctuation)"
   ]
  },
  {
   "cell_type": "code",
   "execution_count": null,
   "metadata": {
    "colab": {
     "base_uri": "https://localhost:8080/",
     "height": 140
    },
    "id": "hShpoHIP4T1F",
    "outputId": "867b3b1f-6484-47b7-d216-8d5c87e2edb7"
   },
   "outputs": [
    {
     "data": {
      "application/vnd.google.colaboratory.intrinsic+json": {
       "type": "string"
      },
      "text/plain": [
       "'petter matteis love in the time of money is a visually stunning film to watch mr mattei offers us a vivid portrait about human relations this is a movie that seems to be telling us what money power and success do to people in the different situations we encounter this being a variation on the arthur schnitzlers play about the same theme the director transfers the action to the present time new york where all these different characters meet and connect each one is connected in one way or another to the next person but no one seems to know the previous point of contact stylishly the film has a sophisticated luxurious look we are taken to see how these people live and the world they live in their own habitatthe only thing one gets out of all these souls in the picture is the different stages of loneliness each one inhabits a big city is not exactly the best place in which human relations find sincere fulfillment as one discerns is the case with most of the people we encounterthe acting is good under mr matteis direction steve buscemi rosario dawson carol kane michael imperioli adrian grenier and the rest of the talented cast make these characters come alivewe wish mr mattei good luck and await anxiously for his next work'"
      ]
     },
     "execution_count": 22,
     "metadata": {},
     "output_type": "execute_result"
    }
   ],
   "source": [
    "data['review'][4]"
   ]
  },
  {
   "cell_type": "markdown",
   "metadata": {
    "id": "pmlQIJqz4elK"
   },
   "source": [
    "### Handling Stopwords"
   ]
  },
  {
   "cell_type": "code",
   "execution_count": null,
   "metadata": {
    "colab": {
     "base_uri": "https://localhost:8080/"
    },
    "id": "cwrVWIFS4hOI",
    "outputId": "358d18ac-61d9-4087-944b-ae170ef4dad1"
   },
   "outputs": [],
   "source": [
    "from nltk.corpus import stopwords\n",
    "import nltk\n",
    "nltk.download('stopwords')\n",
    "stop_words = set(stopwords.words('english'))\n",
    "stop_words"
   ]
  },
  {
   "cell_type": "code",
   "execution_count": null,
   "metadata": {
    "id": "tX3OEkc74r3S"
   },
   "outputs": [],
   "source": [
    "def remove_stopwords(text):\n",
    "\n",
    "    return [word for word in text.split() if word not in stop_words]"
   ]
  },
  {
   "cell_type": "code",
   "execution_count": null,
   "metadata": {
    "colab": {
     "base_uri": "https://localhost:8080/",
     "height": 140
    },
    "id": "zTT_d62j44Wb",
    "outputId": "0e521c37-59d2-41eb-fe14-1c13a48365c5"
   },
   "outputs": [
    {
     "data": {
      "application/vnd.google.colaboratory.intrinsic+json": {
       "type": "string"
      },
      "text/plain": [
       "'petter matteis love in the time of money is a visually stunning film to watch mr mattei offers us a vivid portrait about human relations this is a movie that seems to be telling us what money power and success do to people in the different situations we encounter this being a variation on the arthur schnitzlers play about the same theme the director transfers the action to the present time new york where all these different characters meet and connect each one is connected in one way or another to the next person but no one seems to know the previous point of contact stylishly the film has a sophisticated luxurious look we are taken to see how these people live and the world they live in their own habitatthe only thing one gets out of all these souls in the picture is the different stages of loneliness each one inhabits a big city is not exactly the best place in which human relations find sincere fulfillment as one discerns is the case with most of the people we encounterthe acting is good under mr matteis direction steve buscemi rosario dawson carol kane michael imperioli adrian grenier and the rest of the talented cast make these characters come alivewe wish mr mattei good luck and await anxiously for his next work'"
      ]
     },
     "execution_count": 25,
     "metadata": {},
     "output_type": "execute_result"
    }
   ],
   "source": [
    "data['review'][4]"
   ]
  },
  {
   "cell_type": "code",
   "execution_count": null,
   "metadata": {
    "id": "-3fYCIx244h7"
   },
   "outputs": [],
   "source": [
    "data['review'] = data['review'].apply(remove_stopwords)"
   ]
  },
  {
   "cell_type": "code",
   "execution_count": null,
   "metadata": {
    "colab": {
     "base_uri": "https://localhost:8080/"
    },
    "id": "ynbNm4Pg4_el",
    "outputId": "e4a3218a-a605-4036-ee62-fd993ce99696",
    "scrolled": true
   },
   "outputs": [],
   "source": [
    "data['review'][4]"
   ]
  },
  {
   "cell_type": "code",
   "execution_count": null,
   "metadata": {
    "colab": {
     "base_uri": "https://localhost:8080/",
     "height": 206
    },
    "id": "paQwVmsq5HW1",
    "outputId": "2a84802e-2930-4a24-fbd5-9987ef8374d9"
   },
   "outputs": [
    {
     "data": {
      "application/vnd.google.colaboratory.intrinsic+json": {
       "summary": "{\n  \"name\": \"data\",\n  \"rows\": 50000,\n  \"fields\": [\n    {\n      \"column\": \"review\",\n      \"properties\": {\n        \"dtype\": \"object\",\n        \"semantic_type\": \"\",\n        \"description\": \"\"\n      }\n    },\n    {\n      \"column\": \"sentiment\",\n      \"properties\": {\n        \"dtype\": \"category\",\n        \"num_unique_values\": 2,\n        \"samples\": [\n          \"negative\",\n          \"positive\"\n        ],\n        \"semantic_type\": \"\",\n        \"description\": \"\"\n      }\n    }\n  ]\n}",
       "type": "dataframe",
       "variable_name": "data"
      },
      "text/html": [
       "\n",
       "  <div id=\"df-96020aef-f334-4203-a590-71c171fa0dc6\" class=\"colab-df-container\">\n",
       "    <div>\n",
       "<style scoped>\n",
       "    .dataframe tbody tr th:only-of-type {\n",
       "        vertical-align: middle;\n",
       "    }\n",
       "\n",
       "    .dataframe tbody tr th {\n",
       "        vertical-align: top;\n",
       "    }\n",
       "\n",
       "    .dataframe thead th {\n",
       "        text-align: right;\n",
       "    }\n",
       "</style>\n",
       "<table border=\"1\" class=\"dataframe\">\n",
       "  <thead>\n",
       "    <tr style=\"text-align: right;\">\n",
       "      <th></th>\n",
       "      <th>review</th>\n",
       "      <th>sentiment</th>\n",
       "    </tr>\n",
       "  </thead>\n",
       "  <tbody>\n",
       "    <tr>\n",
       "      <th>0</th>\n",
       "      <td>[one, reviewers, mentioned, watching, 1, oz, e...</td>\n",
       "      <td>positive</td>\n",
       "    </tr>\n",
       "    <tr>\n",
       "      <th>1</th>\n",
       "      <td>[wonderful, little, production, filming, techn...</td>\n",
       "      <td>positive</td>\n",
       "    </tr>\n",
       "    <tr>\n",
       "      <th>2</th>\n",
       "      <td>[thought, wonderful, way, spend, time, hot, su...</td>\n",
       "      <td>positive</td>\n",
       "    </tr>\n",
       "    <tr>\n",
       "      <th>3</th>\n",
       "      <td>[basically, theres, family, little, boy, jake,...</td>\n",
       "      <td>negative</td>\n",
       "    </tr>\n",
       "    <tr>\n",
       "      <th>4</th>\n",
       "      <td>[petter, matteis, love, time, money, visually,...</td>\n",
       "      <td>positive</td>\n",
       "    </tr>\n",
       "  </tbody>\n",
       "</table>\n",
       "</div>\n",
       "    <div class=\"colab-df-buttons\">\n",
       "\n",
       "  <div class=\"colab-df-container\">\n",
       "    <button class=\"colab-df-convert\" onclick=\"convertToInteractive('df-96020aef-f334-4203-a590-71c171fa0dc6')\"\n",
       "            title=\"Convert this dataframe to an interactive table.\"\n",
       "            style=\"display:none;\">\n",
       "\n",
       "  <svg xmlns=\"http://www.w3.org/2000/svg\" height=\"24px\" viewBox=\"0 -960 960 960\">\n",
       "    <path d=\"M120-120v-720h720v720H120Zm60-500h600v-160H180v160Zm220 220h160v-160H400v160Zm0 220h160v-160H400v160ZM180-400h160v-160H180v160Zm440 0h160v-160H620v160ZM180-180h160v-160H180v160Zm440 0h160v-160H620v160Z\"/>\n",
       "  </svg>\n",
       "    </button>\n",
       "\n",
       "  <style>\n",
       "    .colab-df-container {\n",
       "      display:flex;\n",
       "      gap: 12px;\n",
       "    }\n",
       "\n",
       "    .colab-df-convert {\n",
       "      background-color: #E8F0FE;\n",
       "      border: none;\n",
       "      border-radius: 50%;\n",
       "      cursor: pointer;\n",
       "      display: none;\n",
       "      fill: #1967D2;\n",
       "      height: 32px;\n",
       "      padding: 0 0 0 0;\n",
       "      width: 32px;\n",
       "    }\n",
       "\n",
       "    .colab-df-convert:hover {\n",
       "      background-color: #E2EBFA;\n",
       "      box-shadow: 0px 1px 2px rgba(60, 64, 67, 0.3), 0px 1px 3px 1px rgba(60, 64, 67, 0.15);\n",
       "      fill: #174EA6;\n",
       "    }\n",
       "\n",
       "    .colab-df-buttons div {\n",
       "      margin-bottom: 4px;\n",
       "    }\n",
       "\n",
       "    [theme=dark] .colab-df-convert {\n",
       "      background-color: #3B4455;\n",
       "      fill: #D2E3FC;\n",
       "    }\n",
       "\n",
       "    [theme=dark] .colab-df-convert:hover {\n",
       "      background-color: #434B5C;\n",
       "      box-shadow: 0px 1px 3px 1px rgba(0, 0, 0, 0.15);\n",
       "      filter: drop-shadow(0px 1px 2px rgba(0, 0, 0, 0.3));\n",
       "      fill: #FFFFFF;\n",
       "    }\n",
       "  </style>\n",
       "\n",
       "    <script>\n",
       "      const buttonEl =\n",
       "        document.querySelector('#df-96020aef-f334-4203-a590-71c171fa0dc6 button.colab-df-convert');\n",
       "      buttonEl.style.display =\n",
       "        google.colab.kernel.accessAllowed ? 'block' : 'none';\n",
       "\n",
       "      async function convertToInteractive(key) {\n",
       "        const element = document.querySelector('#df-96020aef-f334-4203-a590-71c171fa0dc6');\n",
       "        const dataTable =\n",
       "          await google.colab.kernel.invokeFunction('convertToInteractive',\n",
       "                                                    [key], {});\n",
       "        if (!dataTable) return;\n",
       "\n",
       "        const docLinkHtml = 'Like what you see? Visit the ' +\n",
       "          '<a target=\"_blank\" href=https://colab.research.google.com/notebooks/data_table.ipynb>data table notebook</a>'\n",
       "          + ' to learn more about interactive tables.';\n",
       "        element.innerHTML = '';\n",
       "        dataTable['output_type'] = 'display_data';\n",
       "        await google.colab.output.renderOutput(dataTable, element);\n",
       "        const docLink = document.createElement('div');\n",
       "        docLink.innerHTML = docLinkHtml;\n",
       "        element.appendChild(docLink);\n",
       "      }\n",
       "    </script>\n",
       "  </div>\n",
       "\n",
       "\n",
       "<div id=\"df-209b7d3b-5538-4130-a272-d19910d1f0a2\">\n",
       "  <button class=\"colab-df-quickchart\" onclick=\"quickchart('df-209b7d3b-5538-4130-a272-d19910d1f0a2')\"\n",
       "            title=\"Suggest charts\"\n",
       "            style=\"display:none;\">\n",
       "\n",
       "<svg xmlns=\"http://www.w3.org/2000/svg\" height=\"24px\"viewBox=\"0 0 24 24\"\n",
       "     width=\"24px\">\n",
       "    <g>\n",
       "        <path d=\"M19 3H5c-1.1 0-2 .9-2 2v14c0 1.1.9 2 2 2h14c1.1 0 2-.9 2-2V5c0-1.1-.9-2-2-2zM9 17H7v-7h2v7zm4 0h-2V7h2v10zm4 0h-2v-4h2v4z\"/>\n",
       "    </g>\n",
       "</svg>\n",
       "  </button>\n",
       "\n",
       "<style>\n",
       "  .colab-df-quickchart {\n",
       "      --bg-color: #E8F0FE;\n",
       "      --fill-color: #1967D2;\n",
       "      --hover-bg-color: #E2EBFA;\n",
       "      --hover-fill-color: #174EA6;\n",
       "      --disabled-fill-color: #AAA;\n",
       "      --disabled-bg-color: #DDD;\n",
       "  }\n",
       "\n",
       "  [theme=dark] .colab-df-quickchart {\n",
       "      --bg-color: #3B4455;\n",
       "      --fill-color: #D2E3FC;\n",
       "      --hover-bg-color: #434B5C;\n",
       "      --hover-fill-color: #FFFFFF;\n",
       "      --disabled-bg-color: #3B4455;\n",
       "      --disabled-fill-color: #666;\n",
       "  }\n",
       "\n",
       "  .colab-df-quickchart {\n",
       "    background-color: var(--bg-color);\n",
       "    border: none;\n",
       "    border-radius: 50%;\n",
       "    cursor: pointer;\n",
       "    display: none;\n",
       "    fill: var(--fill-color);\n",
       "    height: 32px;\n",
       "    padding: 0;\n",
       "    width: 32px;\n",
       "  }\n",
       "\n",
       "  .colab-df-quickchart:hover {\n",
       "    background-color: var(--hover-bg-color);\n",
       "    box-shadow: 0 1px 2px rgba(60, 64, 67, 0.3), 0 1px 3px 1px rgba(60, 64, 67, 0.15);\n",
       "    fill: var(--button-hover-fill-color);\n",
       "  }\n",
       "\n",
       "  .colab-df-quickchart-complete:disabled,\n",
       "  .colab-df-quickchart-complete:disabled:hover {\n",
       "    background-color: var(--disabled-bg-color);\n",
       "    fill: var(--disabled-fill-color);\n",
       "    box-shadow: none;\n",
       "  }\n",
       "\n",
       "  .colab-df-spinner {\n",
       "    border: 2px solid var(--fill-color);\n",
       "    border-color: transparent;\n",
       "    border-bottom-color: var(--fill-color);\n",
       "    animation:\n",
       "      spin 1s steps(1) infinite;\n",
       "  }\n",
       "\n",
       "  @keyframes spin {\n",
       "    0% {\n",
       "      border-color: transparent;\n",
       "      border-bottom-color: var(--fill-color);\n",
       "      border-left-color: var(--fill-color);\n",
       "    }\n",
       "    20% {\n",
       "      border-color: transparent;\n",
       "      border-left-color: var(--fill-color);\n",
       "      border-top-color: var(--fill-color);\n",
       "    }\n",
       "    30% {\n",
       "      border-color: transparent;\n",
       "      border-left-color: var(--fill-color);\n",
       "      border-top-color: var(--fill-color);\n",
       "      border-right-color: var(--fill-color);\n",
       "    }\n",
       "    40% {\n",
       "      border-color: transparent;\n",
       "      border-right-color: var(--fill-color);\n",
       "      border-top-color: var(--fill-color);\n",
       "    }\n",
       "    60% {\n",
       "      border-color: transparent;\n",
       "      border-right-color: var(--fill-color);\n",
       "    }\n",
       "    80% {\n",
       "      border-color: transparent;\n",
       "      border-right-color: var(--fill-color);\n",
       "      border-bottom-color: var(--fill-color);\n",
       "    }\n",
       "    90% {\n",
       "      border-color: transparent;\n",
       "      border-bottom-color: var(--fill-color);\n",
       "    }\n",
       "  }\n",
       "</style>\n",
       "\n",
       "  <script>\n",
       "    async function quickchart(key) {\n",
       "      const quickchartButtonEl =\n",
       "        document.querySelector('#' + key + ' button');\n",
       "      quickchartButtonEl.disabled = true;  // To prevent multiple clicks.\n",
       "      quickchartButtonEl.classList.add('colab-df-spinner');\n",
       "      try {\n",
       "        const charts = await google.colab.kernel.invokeFunction(\n",
       "            'suggestCharts', [key], {});\n",
       "      } catch (error) {\n",
       "        console.error('Error during call to suggestCharts:', error);\n",
       "      }\n",
       "      quickchartButtonEl.classList.remove('colab-df-spinner');\n",
       "      quickchartButtonEl.classList.add('colab-df-quickchart-complete');\n",
       "    }\n",
       "    (() => {\n",
       "      let quickchartButtonEl =\n",
       "        document.querySelector('#df-209b7d3b-5538-4130-a272-d19910d1f0a2 button');\n",
       "      quickchartButtonEl.style.display =\n",
       "        google.colab.kernel.accessAllowed ? 'block' : 'none';\n",
       "    })();\n",
       "  </script>\n",
       "</div>\n",
       "\n",
       "    </div>\n",
       "  </div>\n"
      ],
      "text/plain": [
       "                                              review sentiment\n",
       "0  [one, reviewers, mentioned, watching, 1, oz, e...  positive\n",
       "1  [wonderful, little, production, filming, techn...  positive\n",
       "2  [thought, wonderful, way, spend, time, hot, su...  positive\n",
       "3  [basically, theres, family, little, boy, jake,...  negative\n",
       "4  [petter, matteis, love, time, money, visually,...  positive"
      ]
     },
     "execution_count": 28,
     "metadata": {},
     "output_type": "execute_result"
    }
   ],
   "source": [
    "data.head()"
   ]
  },
  {
   "cell_type": "code",
   "execution_count": null,
   "metadata": {
    "id": "HUBVt_YE50FF"
   },
   "outputs": [],
   "source": [
    "# Tokenize the sentences\n",
    "\n",
    "from tensorflow.keras.preprocessing.text import Tokenizer\n",
    "tokenizer = Tokenizer()\n",
    "tokenizer.fit_on_texts(data['review'])\n",
    "word_index = tokenizer.word_index"
   ]
  },
  {
   "cell_type": "code",
   "execution_count": null,
   "metadata": {
    "colab": {
     "base_uri": "https://localhost:8080/"
    },
    "id": "iCLwVzzV57Vb",
    "outputId": "6c966608-4f63-4c2a-aafa-b0bd3b5e2fa3",
    "scrolled": true
   },
   "outputs": [
    {
     "data": {
      "text/plain": [
       "{'movie': 1,\n",
       " 'film': 2,\n",
       " 'one': 3,\n",
       " 'like': 4,\n",
       " 'good': 5,\n",
       " 'even': 6,\n",
       " 'would': 7,\n",
       " 'time': 8,\n",
       " 'really': 9,\n",
       " 'see': 10,\n",
       " 'story': 11,\n",
       " 'much': 12,\n",
       " 'well': 13,\n",
       " 'get': 14,\n",
       " 'great': 15,\n",
       " 'bad': 16,\n",
       " 'also': 17,\n",
       " 'people': 18,\n",
       " 'first': 19,\n",
       " 'dont': 20,\n",
       " 'movies': 21,\n",
       " 'made': 22,\n",
       " 'make': 23,\n",
       " 'films': 24,\n",
       " 'could': 25,\n",
       " 'way': 26,\n",
       " 'characters': 27,\n",
       " 'think': 28,\n",
       " 'watch': 29,\n",
       " 'many': 30,\n",
       " 'seen': 31,\n",
       " 'two': 32,\n",
       " 'character': 33,\n",
       " 'never': 34,\n",
       " 'love': 35,\n",
       " 'acting': 36,\n",
       " 'little': 37,\n",
       " 'plot': 38,\n",
       " 'best': 39,\n",
       " 'know': 40,\n",
       " 'show': 41,\n",
       " 'life': 42,\n",
       " 'ever': 43,\n",
       " 'better': 44,\n",
       " 'say': 45,\n",
       " 'still': 46,\n",
       " 'scene': 47,\n",
       " 'end': 48,\n",
       " 'man': 49,\n",
       " 'scenes': 50,\n",
       " 'something': 51,\n",
       " 'go': 52,\n",
       " 'back': 53,\n",
       " 'real': 54,\n",
       " 'im': 55,\n",
       " 'watching': 56,\n",
       " 'thing': 57,\n",
       " 'doesnt': 58,\n",
       " 'didnt': 59,\n",
       " 'actors': 60,\n",
       " 'years': 61,\n",
       " 'actually': 62,\n",
       " 'though': 63,\n",
       " 'funny': 64,\n",
       " 'makes': 65,\n",
       " 'another': 66,\n",
       " 'find': 67,\n",
       " 'nothing': 68,\n",
       " 'look': 69,\n",
       " 'going': 70,\n",
       " 'work': 71,\n",
       " 'lot': 72,\n",
       " 'new': 73,\n",
       " 'every': 74,\n",
       " 'old': 75,\n",
       " 'us': 76,\n",
       " 'part': 77,\n",
       " 'cant': 78,\n",
       " 'director': 79,\n",
       " 'want': 80,\n",
       " 'quite': 81,\n",
       " 'thats': 82,\n",
       " 'things': 83,\n",
       " 'pretty': 84,\n",
       " 'cast': 85,\n",
       " 'seems': 86,\n",
       " 'around': 87,\n",
       " 'got': 88,\n",
       " 'young': 89,\n",
       " 'take': 90,\n",
       " 'fact': 91,\n",
       " 'world': 92,\n",
       " 'enough': 93,\n",
       " 'big': 94,\n",
       " 'horror': 95,\n",
       " 'thought': 96,\n",
       " 'give': 97,\n",
       " 'may': 98,\n",
       " 'ive': 99,\n",
       " 'however': 100,\n",
       " 'without': 101,\n",
       " 'long': 102,\n",
       " 'saw': 103,\n",
       " 'isnt': 104,\n",
       " 'always': 105,\n",
       " 'gets': 106,\n",
       " 'right': 107,\n",
       " 'music': 108,\n",
       " 'original': 109,\n",
       " 'must': 110,\n",
       " 'almost': 111,\n",
       " 'come': 112,\n",
       " 'series': 113,\n",
       " 'times': 114,\n",
       " 'comedy': 115,\n",
       " 'whole': 116,\n",
       " 'role': 117,\n",
       " 'least': 118,\n",
       " 'interesting': 119,\n",
       " 'guy': 120,\n",
       " 'action': 121,\n",
       " 'point': 122,\n",
       " 'bit': 123,\n",
       " 'theres': 124,\n",
       " 'done': 125,\n",
       " 'far': 126,\n",
       " 'might': 127,\n",
       " 'hes': 128,\n",
       " 'minutes': 129,\n",
       " 'script': 130,\n",
       " 'feel': 131,\n",
       " 'anything': 132,\n",
       " 'last': 133,\n",
       " 'since': 134,\n",
       " 'probably': 135,\n",
       " 'family': 136,\n",
       " 'kind': 137,\n",
       " 'performance': 138,\n",
       " 'tv': 139,\n",
       " 'away': 140,\n",
       " 'rather': 141,\n",
       " 'yet': 142,\n",
       " 'worst': 143,\n",
       " 'fun': 144,\n",
       " 'found': 145,\n",
       " 'anyone': 146,\n",
       " 'sure': 147,\n",
       " 'played': 148,\n",
       " 'girl': 149,\n",
       " 'making': 150,\n",
       " 'believe': 151,\n",
       " 'woman': 152,\n",
       " 'trying': 153,\n",
       " 'shows': 154,\n",
       " 'especially': 155,\n",
       " 'course': 156,\n",
       " 'comes': 157,\n",
       " 'hard': 158,\n",
       " 'goes': 159,\n",
       " 'day': 160,\n",
       " 'put': 161,\n",
       " 'although': 162,\n",
       " 'everything': 163,\n",
       " 'different': 164,\n",
       " 'worth': 165,\n",
       " 'main': 166,\n",
       " 'looking': 167,\n",
       " 'dvd': 168,\n",
       " 'ending': 169,\n",
       " 'place': 170,\n",
       " 'looks': 171,\n",
       " 'wasnt': 172,\n",
       " 'book': 173,\n",
       " 'watched': 174,\n",
       " 'maybe': 175,\n",
       " 'sense': 176,\n",
       " 'reason': 177,\n",
       " 'screen': 178,\n",
       " 'three': 179,\n",
       " 'set': 180,\n",
       " 'effects': 181,\n",
       " 'someone': 182,\n",
       " 'true': 183,\n",
       " 'plays': 184,\n",
       " 'play': 185,\n",
       " 'job': 186,\n",
       " 'money': 187,\n",
       " 'together': 188,\n",
       " 'actor': 189,\n",
       " 'said': 190,\n",
       " 'seem': 191,\n",
       " 'takes': 192,\n",
       " '10': 193,\n",
       " '2': 194,\n",
       " 'american': 195,\n",
       " 'everyone': 196,\n",
       " 'instead': 197,\n",
       " 'beautiful': 198,\n",
       " 'special': 199,\n",
       " 'seeing': 200,\n",
       " 'later': 201,\n",
       " 'left': 202,\n",
       " 'audience': 203,\n",
       " 'war': 204,\n",
       " 'version': 205,\n",
       " 'excellent': 206,\n",
       " 'john': 207,\n",
       " 'idea': 208,\n",
       " 'night': 209,\n",
       " 'shot': 210,\n",
       " 'black': 211,\n",
       " 'simply': 212,\n",
       " 'high': 213,\n",
       " 'fan': 214,\n",
       " 'youre': 215,\n",
       " 'completely': 216,\n",
       " 'used': 217,\n",
       " 'house': 218,\n",
       " 'nice': 219,\n",
       " 'read': 220,\n",
       " 'poor': 221,\n",
       " 'else': 222,\n",
       " 'wife': 223,\n",
       " 'death': 224,\n",
       " 'kids': 225,\n",
       " 'friends': 226,\n",
       " 'short': 227,\n",
       " 'along': 228,\n",
       " 'help': 229,\n",
       " 'men': 230,\n",
       " 'second': 231,\n",
       " 'mind': 232,\n",
       " 'use': 233,\n",
       " 'less': 234,\n",
       " 'star': 235,\n",
       " 'home': 236,\n",
       " 'need': 237,\n",
       " 'try': 238,\n",
       " 'half': 239,\n",
       " 'given': 240,\n",
       " 'enjoy': 241,\n",
       " 'year': 242,\n",
       " 'boring': 243,\n",
       " 'classic': 244,\n",
       " 'rest': 245,\n",
       " 'either': 246,\n",
       " 'truly': 247,\n",
       " 'performances': 248,\n",
       " 'recommend': 249,\n",
       " 'dead': 250,\n",
       " 'couple': 251,\n",
       " 'production': 252,\n",
       " 'wrong': 253,\n",
       " 'stupid': 254,\n",
       " 'line': 255,\n",
       " 'father': 256,\n",
       " 'hollywood': 257,\n",
       " 'start': 258,\n",
       " 'next': 259,\n",
       " 'tell': 260,\n",
       " 'came': 261,\n",
       " 'getting': 262,\n",
       " 'women': 263,\n",
       " 'understand': 264,\n",
       " 'remember': 265,\n",
       " 'full': 266,\n",
       " 'let': 267,\n",
       " 'school': 268,\n",
       " 'keep': 269,\n",
       " 'camera': 270,\n",
       " 'terrible': 271,\n",
       " 'others': 272,\n",
       " 'awful': 273,\n",
       " 'moments': 274,\n",
       " 'mean': 275,\n",
       " 'sex': 276,\n",
       " 'wonderful': 277,\n",
       " 'playing': 278,\n",
       " 'perhaps': 279,\n",
       " 'video': 280,\n",
       " 'name': 281,\n",
       " 'human': 282,\n",
       " 'gives': 283,\n",
       " 'often': 284,\n",
       " 'budget': 285,\n",
       " 'episode': 286,\n",
       " 'small': 287,\n",
       " 'couldnt': 288,\n",
       " 'definitely': 289,\n",
       " 'perfect': 290,\n",
       " 'early': 291,\n",
       " 'person': 292,\n",
       " 'top': 293,\n",
       " 'went': 294,\n",
       " 'lines': 295,\n",
       " 'dialogue': 296,\n",
       " 'absolutely': 297,\n",
       " 'face': 298,\n",
       " 'piece': 299,\n",
       " 'guys': 300,\n",
       " 'certainly': 301,\n",
       " 'become': 302,\n",
       " 'liked': 303,\n",
       " 'stars': 304,\n",
       " 'case': 305,\n",
       " 'sort': 306,\n",
       " 'head': 307,\n",
       " 'loved': 308,\n",
       " 'hope': 309,\n",
       " 'entire': 310,\n",
       " 'felt': 311,\n",
       " 'supposed': 312,\n",
       " 'lost': 313,\n",
       " 'several': 314,\n",
       " 'live': 315,\n",
       " 'style': 316,\n",
       " 'mother': 317,\n",
       " 'entertaining': 318,\n",
       " 'written': 319,\n",
       " 'worse': 320,\n",
       " 'picture': 321,\n",
       " 'title': 322,\n",
       " 'laugh': 323,\n",
       " 'finally': 324,\n",
       " 'waste': 325,\n",
       " 'problem': 326,\n",
       " 'boy': 327,\n",
       " 'friend': 328,\n",
       " 'totally': 329,\n",
       " 'sound': 330,\n",
       " 'shes': 331,\n",
       " 'beginning': 332,\n",
       " 'seemed': 333,\n",
       " 'wanted': 334,\n",
       " 'yes': 335,\n",
       " 'based': 336,\n",
       " 'cinema': 337,\n",
       " 'mr': 338,\n",
       " 'dark': 339,\n",
       " 'care': 340,\n",
       " 'becomes': 341,\n",
       " 'humor': 342,\n",
       " 'wont': 343,\n",
       " 'already': 344,\n",
       " 'fans': 345,\n",
       " 'lead': 346,\n",
       " 'example': 347,\n",
       " 'guess': 348,\n",
       " 'youll': 349,\n",
       " 'final': 350,\n",
       " 'children': 351,\n",
       " 'evil': 352,\n",
       " 'called': 353,\n",
       " '3': 354,\n",
       " 'direction': 355,\n",
       " 'lives': 356,\n",
       " 'able': 357,\n",
       " 'turn': 358,\n",
       " 'id': 359,\n",
       " 'low': 360,\n",
       " 'throughout': 361,\n",
       " 'game': 362,\n",
       " 'drama': 363,\n",
       " 'white': 364,\n",
       " 'wants': 365,\n",
       " 'oh': 366,\n",
       " 'girls': 367,\n",
       " 'days': 368,\n",
       " 'fine': 369,\n",
       " 'despite': 370,\n",
       " '\\x96': 371,\n",
       " 'quality': 372,\n",
       " 'horrible': 373,\n",
       " 'theyre': 374,\n",
       " 'amazing': 375,\n",
       " 'writing': 376,\n",
       " 'history': 377,\n",
       " 'tries': 378,\n",
       " 'works': 379,\n",
       " 'kill': 380,\n",
       " 'enjoyed': 381,\n",
       " 'turns': 382,\n",
       " 'gave': 383,\n",
       " 'killer': 384,\n",
       " 'act': 385,\n",
       " 'unfortunately': 386,\n",
       " 'michael': 387,\n",
       " 'son': 388,\n",
       " 'past': 389,\n",
       " 'parts': 390,\n",
       " 'favorite': 391,\n",
       " 'side': 392,\n",
       " 'flick': 393,\n",
       " 'behind': 394,\n",
       " 'matter': 395,\n",
       " 'expect': 396,\n",
       " 'car': 397,\n",
       " '1': 398,\n",
       " 'brilliant': 399,\n",
       " 'town': 400,\n",
       " 'eyes': 401,\n",
       " 'run': 402,\n",
       " 'starts': 403,\n",
       " 'ones': 404,\n",
       " 'stuff': 405,\n",
       " 'obviously': 406,\n",
       " 'sometimes': 407,\n",
       " 'killed': 408,\n",
       " 'viewer': 409,\n",
       " 'says': 410,\n",
       " 'thinking': 411,\n",
       " 'took': 412,\n",
       " 'soon': 413,\n",
       " 'overall': 414,\n",
       " 'group': 415,\n",
       " 'directed': 416,\n",
       " 'decent': 417,\n",
       " 'actress': 418,\n",
       " 'heart': 419,\n",
       " 'late': 420,\n",
       " 'art': 421,\n",
       " 'city': 422,\n",
       " 'heard': 423,\n",
       " 'genre': 424,\n",
       " 'happens': 425,\n",
       " 'feeling': 426,\n",
       " 'kid': 427,\n",
       " 'highly': 428,\n",
       " 'hell': 429,\n",
       " 'fight': 430,\n",
       " 'except': 431,\n",
       " 'child': 432,\n",
       " 'extremely': 433,\n",
       " 'ill': 434,\n",
       " 'leave': 435,\n",
       " 'wouldnt': 436,\n",
       " 'cannot': 437,\n",
       " 'told': 438,\n",
       " 'lack': 439,\n",
       " 'blood': 440,\n",
       " 'close': 441,\n",
       " 'etc': 442,\n",
       " 'police': 443,\n",
       " 'experience': 444,\n",
       " 'moment': 445,\n",
       " 'hour': 446,\n",
       " 'coming': 447,\n",
       " 'wonder': 448,\n",
       " 'looked': 449,\n",
       " 'stories': 450,\n",
       " 'involved': 451,\n",
       " 'chance': 452,\n",
       " 'strong': 453,\n",
       " 'hand': 454,\n",
       " 'particularly': 455,\n",
       " 'type': 456,\n",
       " 'save': 457,\n",
       " 'score': 458,\n",
       " 'daughter': 459,\n",
       " 'living': 460,\n",
       " 'including': 461,\n",
       " 'attempt': 462,\n",
       " 'complete': 463,\n",
       " 'shown': 464,\n",
       " 'serious': 465,\n",
       " 'taken': 466,\n",
       " 'simple': 467,\n",
       " 'obvious': 468,\n",
       " 'god': 469,\n",
       " 'roles': 470,\n",
       " 'happened': 471,\n",
       " 'hilarious': 472,\n",
       " 'violence': 473,\n",
       " 'stop': 474,\n",
       " 'happen': 475,\n",
       " 'cool': 476,\n",
       " 'james': 477,\n",
       " 'across': 478,\n",
       " 'murder': 479,\n",
       " 'voice': 480,\n",
       " 'known': 481,\n",
       " 'exactly': 482,\n",
       " 'song': 483,\n",
       " 'opening': 484,\n",
       " 'ago': 485,\n",
       " 'number': 486,\n",
       " 'usually': 487,\n",
       " 'robert': 488,\n",
       " 'released': 489,\n",
       " 'slow': 490,\n",
       " 'saying': 491,\n",
       " 'huge': 492,\n",
       " 'david': 493,\n",
       " 'wish': 494,\n",
       " 'jokes': 495,\n",
       " 'ok': 496,\n",
       " 'reality': 497,\n",
       " 'interest': 498,\n",
       " 'whose': 499,\n",
       " 'order': 500,\n",
       " 'hours': 501,\n",
       " 'cinematography': 502,\n",
       " 'english': 503,\n",
       " 'crap': 504,\n",
       " 'relationship': 505,\n",
       " 'sad': 506,\n",
       " 'hit': 507,\n",
       " 'alone': 508,\n",
       " 'none': 509,\n",
       " 'lets': 510,\n",
       " 'running': 511,\n",
       " 'shots': 512,\n",
       " 'possible': 513,\n",
       " 'talent': 514,\n",
       " 'annoying': 515,\n",
       " 'seriously': 516,\n",
       " 'gore': 517,\n",
       " 'started': 518,\n",
       " 'cut': 519,\n",
       " 'age': 520,\n",
       " 'major': 521,\n",
       " 'career': 522,\n",
       " 'call': 523,\n",
       " 'today': 524,\n",
       " 'please': 525,\n",
       " 'female': 526,\n",
       " 'brother': 527,\n",
       " 'somewhat': 528,\n",
       " 'taking': 529,\n",
       " 'ends': 530,\n",
       " 'usual': 531,\n",
       " 'ridiculous': 532,\n",
       " 'knew': 533,\n",
       " 'hero': 534,\n",
       " 'beyond': 535,\n",
       " 'mostly': 536,\n",
       " 'important': 537,\n",
       " 'change': 538,\n",
       " 'view': 539,\n",
       " 'knows': 540,\n",
       " 'documentary': 541,\n",
       " 'body': 542,\n",
       " 'turned': 543,\n",
       " 'finds': 544,\n",
       " 'power': 545,\n",
       " 'opinion': 546,\n",
       " 'words': 547,\n",
       " 'silly': 548,\n",
       " 'word': 549,\n",
       " 'strange': 550,\n",
       " 'due': 551,\n",
       " 'novel': 552,\n",
       " '5': 553,\n",
       " 'husband': 554,\n",
       " 'scary': 555,\n",
       " 'anyway': 556,\n",
       " 'apparently': 557,\n",
       " 'local': 558,\n",
       " 'upon': 559,\n",
       " 'talking': 560,\n",
       " 'attention': 561,\n",
       " 'happy': 562,\n",
       " 'directors': 563,\n",
       " 'clearly': 564,\n",
       " 'cheap': 565,\n",
       " 'episodes': 566,\n",
       " 'musical': 567,\n",
       " 'arent': 568,\n",
       " 'country': 569,\n",
       " 'four': 570,\n",
       " 'room': 571,\n",
       " 'basically': 572,\n",
       " 'single': 573,\n",
       " 'level': 574,\n",
       " 'problems': 575,\n",
       " '4': 576,\n",
       " 'disappointed': 577,\n",
       " 'television': 578,\n",
       " 'british': 579,\n",
       " 'tells': 580,\n",
       " 'sequence': 581,\n",
       " 'events': 582,\n",
       " 'miss': 583,\n",
       " 'jack': 584,\n",
       " 'modern': 585,\n",
       " 'talk': 586,\n",
       " 'light': 587,\n",
       " 'songs': 588,\n",
       " 'whats': 589,\n",
       " 'french': 590,\n",
       " 'whether': 591,\n",
       " 'appears': 592,\n",
       " 'sets': 593,\n",
       " 'predictable': 594,\n",
       " 'bring': 595,\n",
       " 'easily': 596,\n",
       " 'giving': 597,\n",
       " 'havent': 598,\n",
       " 'review': 599,\n",
       " 'rating': 600,\n",
       " 'supporting': 601,\n",
       " 'add': 602,\n",
       " 'dialog': 603,\n",
       " 'mention': 604,\n",
       " 'falls': 605,\n",
       " 'lots': 606,\n",
       " 'similar': 607,\n",
       " 'soundtrack': 608,\n",
       " 'needs': 609,\n",
       " 'viewers': 610,\n",
       " 'romantic': 611,\n",
       " 'bunch': 612,\n",
       " 'team': 613,\n",
       " 'ten': 614,\n",
       " 'enjoyable': 615,\n",
       " 'hate': 616,\n",
       " 'future': 617,\n",
       " 'showing': 618,\n",
       " 'george': 619,\n",
       " 'within': 620,\n",
       " 'tried': 621,\n",
       " 'message': 622,\n",
       " 'five': 623,\n",
       " 'entertainment': 624,\n",
       " 'certain': 625,\n",
       " 'surprised': 626,\n",
       " 'moving': 627,\n",
       " 'clear': 628,\n",
       " 'earth': 629,\n",
       " 'parents': 630,\n",
       " 'comic': 631,\n",
       " 'space': 632,\n",
       " 'middle': 633,\n",
       " 'storyline': 634,\n",
       " 'among': 635,\n",
       " 'filmed': 636,\n",
       " 'dull': 637,\n",
       " 'named': 638,\n",
       " 'fall': 639,\n",
       " 'theme': 640,\n",
       " 'sequel': 641,\n",
       " 'easy': 642,\n",
       " 'theater': 643,\n",
       " 'ways': 644,\n",
       " 'feels': 645,\n",
       " 'kept': 646,\n",
       " 'king': 647,\n",
       " 'release': 648,\n",
       " 'typical': 649,\n",
       " 'near': 650,\n",
       " 'stay': 651,\n",
       " 'using': 652,\n",
       " 'thriller': 653,\n",
       " 'greatest': 654,\n",
       " 'buy': 655,\n",
       " 'comments': 656,\n",
       " 'gone': 657,\n",
       " 'doubt': 658,\n",
       " 'working': 659,\n",
       " 'effort': 660,\n",
       " 'nearly': 661,\n",
       " 'sorry': 662,\n",
       " 'writer': 663,\n",
       " 'elements': 664,\n",
       " 'actual': 665,\n",
       " 'deal': 666,\n",
       " 'means': 667,\n",
       " 'monster': 668,\n",
       " 'tale': 669,\n",
       " 'subject': 670,\n",
       " 'suspense': 671,\n",
       " 'brought': 672,\n",
       " 'fantastic': 673,\n",
       " '80s': 674,\n",
       " 'editing': 675,\n",
       " 'famous': 676,\n",
       " 'straight': 677,\n",
       " 'die': 678,\n",
       " 'boys': 679,\n",
       " 'realistic': 680,\n",
       " 'lady': 681,\n",
       " 'rock': 682,\n",
       " 'points': 683,\n",
       " 'dr': 684,\n",
       " 'general': 685,\n",
       " 'leads': 686,\n",
       " 'youve': 687,\n",
       " 'sister': 688,\n",
       " 'feature': 689,\n",
       " 'imagine': 690,\n",
       " 'peter': 691,\n",
       " 'viewing': 692,\n",
       " 'move': 693,\n",
       " 'class': 694,\n",
       " 'form': 695,\n",
       " 'begins': 696,\n",
       " 'richard': 697,\n",
       " 'mystery': 698,\n",
       " 'reviews': 699,\n",
       " 'somehow': 700,\n",
       " 'hear': 701,\n",
       " 'material': 702,\n",
       " 'check': 703,\n",
       " 'forget': 704,\n",
       " 'dog': 705,\n",
       " 'learn': 706,\n",
       " 'figure': 707,\n",
       " 'whos': 708,\n",
       " 'rent': 709,\n",
       " 'sit': 710,\n",
       " 'particular': 711,\n",
       " 'weak': 712,\n",
       " 'animation': 713,\n",
       " 'period': 714,\n",
       " 'premise': 715,\n",
       " 'surprise': 716,\n",
       " 'believable': 717,\n",
       " 'killing': 718,\n",
       " 'sequences': 719,\n",
       " 'expected': 720,\n",
       " 'decided': 721,\n",
       " 'eventually': 722,\n",
       " 'atmosphere': 723,\n",
       " 'crime': 724,\n",
       " 'avoid': 725,\n",
       " 'paul': 726,\n",
       " 'difficult': 727,\n",
       " 'wait': 728,\n",
       " 'york': 729,\n",
       " 'deep': 730,\n",
       " 'fast': 731,\n",
       " 'red': 732,\n",
       " 'okay': 733,\n",
       " 'leaves': 734,\n",
       " 'became': 735,\n",
       " 'truth': 736,\n",
       " 'tom': 737,\n",
       " 'possibly': 738,\n",
       " 'emotional': 739,\n",
       " 'indeed': 740,\n",
       " 'average': 741,\n",
       " 'poorly': 742,\n",
       " 'situation': 743,\n",
       " 'eye': 744,\n",
       " 'follow': 745,\n",
       " 'lame': 746,\n",
       " 'dance': 747,\n",
       " 'forced': 748,\n",
       " 'stand': 749,\n",
       " 'meet': 750,\n",
       " 'needed': 751,\n",
       " 'footage': 752,\n",
       " 'shame': 753,\n",
       " 'begin': 754,\n",
       " 'whatever': 755,\n",
       " 'crew': 756,\n",
       " 'memorable': 757,\n",
       " 'scifi': 758,\n",
       " 'minute': 759,\n",
       " 'open': 760,\n",
       " 'oscar': 761,\n",
       " 'sexual': 762,\n",
       " 'reading': 763,\n",
       " 'meets': 764,\n",
       " 'features': 765,\n",
       " 'write': 766,\n",
       " 'season': 767,\n",
       " 'writers': 768,\n",
       " 'previous': 769,\n",
       " 'question': 770,\n",
       " 'doctor': 771,\n",
       " 'filmmakers': 772,\n",
       " 'interested': 773,\n",
       " 'credits': 774,\n",
       " 'beauty': 775,\n",
       " 'romance': 776,\n",
       " 'cheesy': 777,\n",
       " 'gay': 778,\n",
       " 'personal': 779,\n",
       " 'imdb': 780,\n",
       " 'keeps': 781,\n",
       " 'hot': 782,\n",
       " 'third': 783,\n",
       " 'unless': 784,\n",
       " 'superb': 785,\n",
       " 'nature': 786,\n",
       " 'total': 787,\n",
       " 'inside': 788,\n",
       " 'western': 789,\n",
       " 'otherwise': 790,\n",
       " 'hands': 791,\n",
       " 'society': 792,\n",
       " 'towards': 793,\n",
       " 'male': 794,\n",
       " 'incredibly': 795,\n",
       " 'perfectly': 796,\n",
       " 'screenplay': 797,\n",
       " 'note': 798,\n",
       " 'box': 799,\n",
       " 'comment': 800,\n",
       " 'sounds': 801,\n",
       " 'weird': 802,\n",
       " 'de': 803,\n",
       " 'result': 804,\n",
       " 'quickly': 805,\n",
       " '20': 806,\n",
       " 'realize': 807,\n",
       " 'effect': 808,\n",
       " 'street': 809,\n",
       " 'japanese': 810,\n",
       " 'island': 811,\n",
       " 'battle': 812,\n",
       " 'laughs': 813,\n",
       " 'masterpiece': 814,\n",
       " 'plus': 815,\n",
       " 'worked': 816,\n",
       " 'badly': 817,\n",
       " 'unique': 818,\n",
       " 'copy': 819,\n",
       " 'earlier': 820,\n",
       " 'older': 821,\n",
       " 'various': 822,\n",
       " 'crazy': 823,\n",
       " 'brings': 824,\n",
       " 'america': 825,\n",
       " 'air': 826,\n",
       " 'stage': 827,\n",
       " 'plenty': 828,\n",
       " 'background': 829,\n",
       " 'appear': 830,\n",
       " 'setting': 831,\n",
       " 'free': 832,\n",
       " 'admit': 833,\n",
       " 'ask': 834,\n",
       " 'fairly': 835,\n",
       " 'b': 836,\n",
       " 'powerful': 837,\n",
       " 'lee': 838,\n",
       " 'spent': 839,\n",
       " 'portrayed': 840,\n",
       " 'front': 841,\n",
       " 'leading': 842,\n",
       " 'business': 843,\n",
       " 'following': 844,\n",
       " 'creepy': 845,\n",
       " 'directing': 846,\n",
       " 'dramatic': 847,\n",
       " 'forward': 848,\n",
       " 'mark': 849,\n",
       " 'acted': 850,\n",
       " 'baby': 851,\n",
       " 'joe': 852,\n",
       " 'mess': 853,\n",
       " 'remake': 854,\n",
       " 'rich': 855,\n",
       " 'development': 856,\n",
       " 'pay': 857,\n",
       " 'dumb': 858,\n",
       " 'outside': 859,\n",
       " 'meant': 860,\n",
       " 'attempts': 861,\n",
       " 'deserves': 862,\n",
       " 'manages': 863,\n",
       " 'political': 864,\n",
       " 'fire': 865,\n",
       " 'fails': 866,\n",
       " 'expecting': 867,\n",
       " 'joke': 868,\n",
       " 'water': 869,\n",
       " 'wasted': 870,\n",
       " 'bill': 871,\n",
       " '70s': 872,\n",
       " 'create': 873,\n",
       " 'ideas': 874,\n",
       " 'la': 875,\n",
       " 'caught': 876,\n",
       " 'agree': 877,\n",
       " 'cover': 878,\n",
       " 'hardly': 879,\n",
       " 'reasons': 880,\n",
       " 'return': 881,\n",
       " 'missing': 882,\n",
       " 'fighting': 883,\n",
       " 'cop': 884,\n",
       " 'success': 885,\n",
       " 'recently': 886,\n",
       " 'present': 887,\n",
       " 'apart': 888,\n",
       " 'twist': 889,\n",
       " 'party': 890,\n",
       " 'large': 891,\n",
       " 'secret': 892,\n",
       " 'girlfriend': 893,\n",
       " 'plain': 894,\n",
       " 'brothers': 895,\n",
       " 'william': 896,\n",
       " 'members': 897,\n",
       " 'clever': 898,\n",
       " 'ended': 899,\n",
       " 'talented': 900,\n",
       " 'cute': 901,\n",
       " 'dream': 902,\n",
       " 'telling': 903,\n",
       " 'laughing': 904,\n",
       " 'pure': 905,\n",
       " 'escape': 906,\n",
       " 'german': 907,\n",
       " 'zombie': 908,\n",
       " 'waiting': 909,\n",
       " 'odd': 910,\n",
       " 'potential': 911,\n",
       " 'break': 912,\n",
       " 'created': 913,\n",
       " 'disney': 914,\n",
       " 'gun': 915,\n",
       " 'missed': 916,\n",
       " 'pace': 917,\n",
       " 'visual': 918,\n",
       " 'casting': 919,\n",
       " 'hold': 920,\n",
       " 'married': 921,\n",
       " 'sees': 922,\n",
       " 'unlike': 923,\n",
       " 'cause': 924,\n",
       " 'slightly': 925,\n",
       " 'incredible': 926,\n",
       " 'villain': 927,\n",
       " 'match': 928,\n",
       " 'italian': 929,\n",
       " 'van': 930,\n",
       " 'public': 931,\n",
       " 'nudity': 932,\n",
       " 'decides': 933,\n",
       " 'uses': 934,\n",
       " 'familiar': 935,\n",
       " 'considering': 936,\n",
       " 'died': 937,\n",
       " 'cartoon': 938,\n",
       " 'state': 939,\n",
       " 'speak': 940,\n",
       " 'mentioned': 941,\n",
       " 'entirely': 942,\n",
       " 'popular': 943,\n",
       " 'list': 944,\n",
       " 'wrote': 945,\n",
       " 'fantasy': 946,\n",
       " 'era': 947,\n",
       " 'appreciate': 948,\n",
       " 'credit': 949,\n",
       " 'amount': 950,\n",
       " 'train': 951,\n",
       " 'produced': 952,\n",
       " 'bored': 953,\n",
       " 'fit': 954,\n",
       " 'company': 955,\n",
       " 'neither': 956,\n",
       " 'compared': 957,\n",
       " 'suddenly': 958,\n",
       " 'convincing': 959,\n",
       " 'biggest': 960,\n",
       " 'follows': 961,\n",
       " 'younger': 962,\n",
       " 'rate': 963,\n",
       " 'office': 964,\n",
       " 'portrayal': 965,\n",
       " 'moves': 966,\n",
       " 'former': 967,\n",
       " 'tension': 968,\n",
       " 'common': 969,\n",
       " 'producers': 970,\n",
       " 'flat': 971,\n",
       " 'sadly': 972,\n",
       " 'intelligent': 973,\n",
       " 'store': 974,\n",
       " 'audiences': 975,\n",
       " 'dancing': 976,\n",
       " 'value': 977,\n",
       " 'images': 978,\n",
       " 'trouble': 979,\n",
       " 'sweet': 980,\n",
       " 'science': 981,\n",
       " 'violent': 982,\n",
       " 'language': 983,\n",
       " 'social': 984,\n",
       " 'choice': 985,\n",
       " 'college': 986,\n",
       " 'filled': 987,\n",
       " 'spend': 988,\n",
       " 'successful': 989,\n",
       " 'cold': 990,\n",
       " 'kills': 991,\n",
       " 'force': 992,\n",
       " 'decide': 993,\n",
       " 'fear': 994,\n",
       " 'recent': 995,\n",
       " 'concept': 996,\n",
       " 'mad': 997,\n",
       " 'bizarre': 998,\n",
       " 'hair': 999,\n",
       " 'century': 1000,\n",
       " ...}"
      ]
     },
     "execution_count": 30,
     "metadata": {},
     "output_type": "execute_result"
    }
   ],
   "source": [
    "word_index"
   ]
  },
  {
   "cell_type": "code",
   "execution_count": null,
   "metadata": {
    "colab": {
     "base_uri": "https://localhost:8080/"
    },
    "id": "W0eYiDDo6Ipz",
    "outputId": "17e33667-9fe9-4a73-c751-ee0162d87cbc"
   },
   "outputs": [
    {
     "data": {
      "text/plain": [
       "222435"
      ]
     },
     "execution_count": 31,
     "metadata": {},
     "output_type": "execute_result"
    }
   ],
   "source": [
    "len(word_index)"
   ]
  },
  {
   "cell_type": "markdown",
   "metadata": {
    "id": "UTa_9aEY6U4U"
   },
   "source": [
    "### Sequences"
   ]
  },
  {
   "cell_type": "code",
   "execution_count": null,
   "metadata": {
    "id": "B-saIe9i6Wzj"
   },
   "outputs": [],
   "source": [
    "from tensorflow.keras.preprocessing.sequence import pad_sequences\n",
    "\n",
    "# Convert sentences to sequences of indices\n",
    "sequences = tokenizer.texts_to_sequences(data['review'])"
   ]
  },
  {
   "cell_type": "code",
   "execution_count": null,
   "metadata": {
    "colab": {
     "base_uri": "https://localhost:8080/"
    },
    "id": "od0N_llZ6gM6",
    "outputId": "096a9ed4-58dc-42eb-ef70-705ed4a67ba9"
   },
   "outputs": [],
   "source": [
    "sequences"
   ]
  },
  {
   "cell_type": "code",
   "execution_count": null,
   "metadata": {
    "colab": {
     "base_uri": "https://localhost:8080/"
    },
    "id": "2355akkMPqYn",
    "outputId": "03ac133b-527c-4ba2-eced-11b87f3f28e7"
   },
   "outputs": [
    {
     "data": {
      "text/plain": [
       "50000"
      ]
     },
     "execution_count": 34,
     "metadata": {},
     "output_type": "execute_result"
    }
   ],
   "source": [
    "len(sequences)"
   ]
  },
  {
   "cell_type": "markdown",
   "metadata": {
    "id": "_iYlIwV965rO"
   },
   "source": [
    "### Padding"
   ]
  },
  {
   "cell_type": "code",
   "execution_count": null,
   "metadata": {
    "id": "g4ZHBtny67LE"
   },
   "outputs": [],
   "source": [
    "# Pad sequences to ensure uniform length\n",
    "max_length = max(len(seq) for seq in sequences)\n",
    "padded_sequences = pad_sequences(sequences, maxlen=max_length, padding='post')"
   ]
  },
  {
   "cell_type": "code",
   "execution_count": null,
   "metadata": {
    "colab": {
     "base_uri": "https://localhost:8080/"
    },
    "id": "1oXObSKc69p1",
    "outputId": "0cb16884-6659-4dce-968d-fe0035656097"
   },
   "outputs": [
    {
     "data": {
      "text/plain": [
       "array([[    3,  1809,   941, ...,     0,     0,     0],\n",
       "       [  277,    37,   252, ...,     0,     0,     0],\n",
       "       [   96,   277,    26, ...,     0,     0,     0],\n",
       "       ...,\n",
       "       [ 3399,  4147, 42368, ...,     0,     0,     0],\n",
       "       [   55,    70,  2856, ...,     0,     0,     0],\n",
       "       [    3,  5592,   235, ...,     0,     0,     0]], dtype=int32)"
      ]
     },
     "execution_count": 36,
     "metadata": {},
     "output_type": "execute_result"
    }
   ],
   "source": [
    "padded_sequences"
   ]
  },
  {
   "cell_type": "code",
   "execution_count": null,
   "metadata": {
    "colab": {
     "base_uri": "https://localhost:8080/"
    },
    "id": "BBsPcvMwP0gB",
    "outputId": "207280f1-ad62-47c4-addb-ce260e4635b0"
   },
   "outputs": [
    {
     "data": {
      "text/plain": [
       "50000"
      ]
     },
     "execution_count": 37,
     "metadata": {},
     "output_type": "execute_result"
    }
   ],
   "source": [
    "len(padded_sequences)"
   ]
  },
  {
   "cell_type": "code",
   "execution_count": null,
   "metadata": {
    "colab": {
     "base_uri": "https://localhost:8080/"
    },
    "id": "NfuX5B8fe7QM",
    "outputId": "cc569418-f56c-41f1-a188-f8b66605e7da"
   },
   "outputs": [
    {
     "data": {
      "text/plain": [
       "array([   3, 1809,  941, ...,    0,    0,    0], dtype=int32)"
      ]
     },
     "execution_count": 38,
     "metadata": {},
     "output_type": "execute_result"
    }
   ],
   "source": [
    "padded_sequences[0]"
   ]
  },
  {
   "cell_type": "markdown",
   "metadata": {
    "id": "uJyBbrBf7WSI"
   },
   "source": [
    "### Encoding sentiments"
   ]
  },
  {
   "cell_type": "code",
   "execution_count": null,
   "metadata": {
    "id": "EFs1r7De7YrT"
   },
   "outputs": [],
   "source": [
    "from sklearn.preprocessing import LabelEncoder\n",
    "\n",
    "label_encoder = LabelEncoder()\n",
    "data['Sentiment_Encoded'] = label_encoder.fit_transform(data['sentiment'])"
   ]
  },
  {
   "cell_type": "code",
   "execution_count": null,
   "metadata": {
    "colab": {
     "base_uri": "https://localhost:8080/",
     "height": 363
    },
    "id": "IRI6Ybal7y6R",
    "outputId": "665b0878-2862-4483-f3b8-28988842c6b6"
   },
   "outputs": [
    {
     "data": {
      "application/vnd.google.colaboratory.intrinsic+json": {
       "summary": "{\n  \"name\": \"data\",\n  \"rows\": 50000,\n  \"fields\": [\n    {\n      \"column\": \"review\",\n      \"properties\": {\n        \"dtype\": \"object\",\n        \"semantic_type\": \"\",\n        \"description\": \"\"\n      }\n    },\n    {\n      \"column\": \"sentiment\",\n      \"properties\": {\n        \"dtype\": \"category\",\n        \"num_unique_values\": 2,\n        \"samples\": [\n          \"negative\",\n          \"positive\"\n        ],\n        \"semantic_type\": \"\",\n        \"description\": \"\"\n      }\n    },\n    {\n      \"column\": \"Sentiment_Encoded\",\n      \"properties\": {\n        \"dtype\": \"number\",\n        \"std\": 0,\n        \"min\": 0,\n        \"max\": 1,\n        \"num_unique_values\": 2,\n        \"samples\": [\n          0,\n          1\n        ],\n        \"semantic_type\": \"\",\n        \"description\": \"\"\n      }\n    }\n  ]\n}",
       "type": "dataframe",
       "variable_name": "data"
      },
      "text/html": [
       "\n",
       "  <div id=\"df-96ee772a-6fd1-4aba-a425-d8ebd140050c\" class=\"colab-df-container\">\n",
       "    <div>\n",
       "<style scoped>\n",
       "    .dataframe tbody tr th:only-of-type {\n",
       "        vertical-align: middle;\n",
       "    }\n",
       "\n",
       "    .dataframe tbody tr th {\n",
       "        vertical-align: top;\n",
       "    }\n",
       "\n",
       "    .dataframe thead th {\n",
       "        text-align: right;\n",
       "    }\n",
       "</style>\n",
       "<table border=\"1\" class=\"dataframe\">\n",
       "  <thead>\n",
       "    <tr style=\"text-align: right;\">\n",
       "      <th></th>\n",
       "      <th>review</th>\n",
       "      <th>sentiment</th>\n",
       "      <th>Sentiment_Encoded</th>\n",
       "    </tr>\n",
       "  </thead>\n",
       "  <tbody>\n",
       "    <tr>\n",
       "      <th>0</th>\n",
       "      <td>[one, reviewers, mentioned, watching, 1, oz, e...</td>\n",
       "      <td>positive</td>\n",
       "      <td>1</td>\n",
       "    </tr>\n",
       "    <tr>\n",
       "      <th>1</th>\n",
       "      <td>[wonderful, little, production, filming, techn...</td>\n",
       "      <td>positive</td>\n",
       "      <td>1</td>\n",
       "    </tr>\n",
       "    <tr>\n",
       "      <th>2</th>\n",
       "      <td>[thought, wonderful, way, spend, time, hot, su...</td>\n",
       "      <td>positive</td>\n",
       "      <td>1</td>\n",
       "    </tr>\n",
       "    <tr>\n",
       "      <th>3</th>\n",
       "      <td>[basically, theres, family, little, boy, jake,...</td>\n",
       "      <td>negative</td>\n",
       "      <td>0</td>\n",
       "    </tr>\n",
       "    <tr>\n",
       "      <th>4</th>\n",
       "      <td>[petter, matteis, love, time, money, visually,...</td>\n",
       "      <td>positive</td>\n",
       "      <td>1</td>\n",
       "    </tr>\n",
       "    <tr>\n",
       "      <th>5</th>\n",
       "      <td>[probably, alltime, favorite, movie, story, se...</td>\n",
       "      <td>positive</td>\n",
       "      <td>1</td>\n",
       "    </tr>\n",
       "    <tr>\n",
       "      <th>6</th>\n",
       "      <td>[sure, would, like, see, resurrection, dated, ...</td>\n",
       "      <td>positive</td>\n",
       "      <td>1</td>\n",
       "    </tr>\n",
       "    <tr>\n",
       "      <th>7</th>\n",
       "      <td>[show, amazing, fresh, innovative, idea, 70s, ...</td>\n",
       "      <td>negative</td>\n",
       "      <td>0</td>\n",
       "    </tr>\n",
       "    <tr>\n",
       "      <th>8</th>\n",
       "      <td>[encouraged, positive, comments, film, looking...</td>\n",
       "      <td>negative</td>\n",
       "      <td>0</td>\n",
       "    </tr>\n",
       "    <tr>\n",
       "      <th>9</th>\n",
       "      <td>[like, original, gut, wrenching, laughter, lik...</td>\n",
       "      <td>positive</td>\n",
       "      <td>1</td>\n",
       "    </tr>\n",
       "  </tbody>\n",
       "</table>\n",
       "</div>\n",
       "    <div class=\"colab-df-buttons\">\n",
       "\n",
       "  <div class=\"colab-df-container\">\n",
       "    <button class=\"colab-df-convert\" onclick=\"convertToInteractive('df-96ee772a-6fd1-4aba-a425-d8ebd140050c')\"\n",
       "            title=\"Convert this dataframe to an interactive table.\"\n",
       "            style=\"display:none;\">\n",
       "\n",
       "  <svg xmlns=\"http://www.w3.org/2000/svg\" height=\"24px\" viewBox=\"0 -960 960 960\">\n",
       "    <path d=\"M120-120v-720h720v720H120Zm60-500h600v-160H180v160Zm220 220h160v-160H400v160Zm0 220h160v-160H400v160ZM180-400h160v-160H180v160Zm440 0h160v-160H620v160ZM180-180h160v-160H180v160Zm440 0h160v-160H620v160Z\"/>\n",
       "  </svg>\n",
       "    </button>\n",
       "\n",
       "  <style>\n",
       "    .colab-df-container {\n",
       "      display:flex;\n",
       "      gap: 12px;\n",
       "    }\n",
       "\n",
       "    .colab-df-convert {\n",
       "      background-color: #E8F0FE;\n",
       "      border: none;\n",
       "      border-radius: 50%;\n",
       "      cursor: pointer;\n",
       "      display: none;\n",
       "      fill: #1967D2;\n",
       "      height: 32px;\n",
       "      padding: 0 0 0 0;\n",
       "      width: 32px;\n",
       "    }\n",
       "\n",
       "    .colab-df-convert:hover {\n",
       "      background-color: #E2EBFA;\n",
       "      box-shadow: 0px 1px 2px rgba(60, 64, 67, 0.3), 0px 1px 3px 1px rgba(60, 64, 67, 0.15);\n",
       "      fill: #174EA6;\n",
       "    }\n",
       "\n",
       "    .colab-df-buttons div {\n",
       "      margin-bottom: 4px;\n",
       "    }\n",
       "\n",
       "    [theme=dark] .colab-df-convert {\n",
       "      background-color: #3B4455;\n",
       "      fill: #D2E3FC;\n",
       "    }\n",
       "\n",
       "    [theme=dark] .colab-df-convert:hover {\n",
       "      background-color: #434B5C;\n",
       "      box-shadow: 0px 1px 3px 1px rgba(0, 0, 0, 0.15);\n",
       "      filter: drop-shadow(0px 1px 2px rgba(0, 0, 0, 0.3));\n",
       "      fill: #FFFFFF;\n",
       "    }\n",
       "  </style>\n",
       "\n",
       "    <script>\n",
       "      const buttonEl =\n",
       "        document.querySelector('#df-96ee772a-6fd1-4aba-a425-d8ebd140050c button.colab-df-convert');\n",
       "      buttonEl.style.display =\n",
       "        google.colab.kernel.accessAllowed ? 'block' : 'none';\n",
       "\n",
       "      async function convertToInteractive(key) {\n",
       "        const element = document.querySelector('#df-96ee772a-6fd1-4aba-a425-d8ebd140050c');\n",
       "        const dataTable =\n",
       "          await google.colab.kernel.invokeFunction('convertToInteractive',\n",
       "                                                    [key], {});\n",
       "        if (!dataTable) return;\n",
       "\n",
       "        const docLinkHtml = 'Like what you see? Visit the ' +\n",
       "          '<a target=\"_blank\" href=https://colab.research.google.com/notebooks/data_table.ipynb>data table notebook</a>'\n",
       "          + ' to learn more about interactive tables.';\n",
       "        element.innerHTML = '';\n",
       "        dataTable['output_type'] = 'display_data';\n",
       "        await google.colab.output.renderOutput(dataTable, element);\n",
       "        const docLink = document.createElement('div');\n",
       "        docLink.innerHTML = docLinkHtml;\n",
       "        element.appendChild(docLink);\n",
       "      }\n",
       "    </script>\n",
       "  </div>\n",
       "\n",
       "\n",
       "<div id=\"df-320f86ce-0e00-4a11-b3e7-1dde0aa4ad58\">\n",
       "  <button class=\"colab-df-quickchart\" onclick=\"quickchart('df-320f86ce-0e00-4a11-b3e7-1dde0aa4ad58')\"\n",
       "            title=\"Suggest charts\"\n",
       "            style=\"display:none;\">\n",
       "\n",
       "<svg xmlns=\"http://www.w3.org/2000/svg\" height=\"24px\"viewBox=\"0 0 24 24\"\n",
       "     width=\"24px\">\n",
       "    <g>\n",
       "        <path d=\"M19 3H5c-1.1 0-2 .9-2 2v14c0 1.1.9 2 2 2h14c1.1 0 2-.9 2-2V5c0-1.1-.9-2-2-2zM9 17H7v-7h2v7zm4 0h-2V7h2v10zm4 0h-2v-4h2v4z\"/>\n",
       "    </g>\n",
       "</svg>\n",
       "  </button>\n",
       "\n",
       "<style>\n",
       "  .colab-df-quickchart {\n",
       "      --bg-color: #E8F0FE;\n",
       "      --fill-color: #1967D2;\n",
       "      --hover-bg-color: #E2EBFA;\n",
       "      --hover-fill-color: #174EA6;\n",
       "      --disabled-fill-color: #AAA;\n",
       "      --disabled-bg-color: #DDD;\n",
       "  }\n",
       "\n",
       "  [theme=dark] .colab-df-quickchart {\n",
       "      --bg-color: #3B4455;\n",
       "      --fill-color: #D2E3FC;\n",
       "      --hover-bg-color: #434B5C;\n",
       "      --hover-fill-color: #FFFFFF;\n",
       "      --disabled-bg-color: #3B4455;\n",
       "      --disabled-fill-color: #666;\n",
       "  }\n",
       "\n",
       "  .colab-df-quickchart {\n",
       "    background-color: var(--bg-color);\n",
       "    border: none;\n",
       "    border-radius: 50%;\n",
       "    cursor: pointer;\n",
       "    display: none;\n",
       "    fill: var(--fill-color);\n",
       "    height: 32px;\n",
       "    padding: 0;\n",
       "    width: 32px;\n",
       "  }\n",
       "\n",
       "  .colab-df-quickchart:hover {\n",
       "    background-color: var(--hover-bg-color);\n",
       "    box-shadow: 0 1px 2px rgba(60, 64, 67, 0.3), 0 1px 3px 1px rgba(60, 64, 67, 0.15);\n",
       "    fill: var(--button-hover-fill-color);\n",
       "  }\n",
       "\n",
       "  .colab-df-quickchart-complete:disabled,\n",
       "  .colab-df-quickchart-complete:disabled:hover {\n",
       "    background-color: var(--disabled-bg-color);\n",
       "    fill: var(--disabled-fill-color);\n",
       "    box-shadow: none;\n",
       "  }\n",
       "\n",
       "  .colab-df-spinner {\n",
       "    border: 2px solid var(--fill-color);\n",
       "    border-color: transparent;\n",
       "    border-bottom-color: var(--fill-color);\n",
       "    animation:\n",
       "      spin 1s steps(1) infinite;\n",
       "  }\n",
       "\n",
       "  @keyframes spin {\n",
       "    0% {\n",
       "      border-color: transparent;\n",
       "      border-bottom-color: var(--fill-color);\n",
       "      border-left-color: var(--fill-color);\n",
       "    }\n",
       "    20% {\n",
       "      border-color: transparent;\n",
       "      border-left-color: var(--fill-color);\n",
       "      border-top-color: var(--fill-color);\n",
       "    }\n",
       "    30% {\n",
       "      border-color: transparent;\n",
       "      border-left-color: var(--fill-color);\n",
       "      border-top-color: var(--fill-color);\n",
       "      border-right-color: var(--fill-color);\n",
       "    }\n",
       "    40% {\n",
       "      border-color: transparent;\n",
       "      border-right-color: var(--fill-color);\n",
       "      border-top-color: var(--fill-color);\n",
       "    }\n",
       "    60% {\n",
       "      border-color: transparent;\n",
       "      border-right-color: var(--fill-color);\n",
       "    }\n",
       "    80% {\n",
       "      border-color: transparent;\n",
       "      border-right-color: var(--fill-color);\n",
       "      border-bottom-color: var(--fill-color);\n",
       "    }\n",
       "    90% {\n",
       "      border-color: transparent;\n",
       "      border-bottom-color: var(--fill-color);\n",
       "    }\n",
       "  }\n",
       "</style>\n",
       "\n",
       "  <script>\n",
       "    async function quickchart(key) {\n",
       "      const quickchartButtonEl =\n",
       "        document.querySelector('#' + key + ' button');\n",
       "      quickchartButtonEl.disabled = true;  // To prevent multiple clicks.\n",
       "      quickchartButtonEl.classList.add('colab-df-spinner');\n",
       "      try {\n",
       "        const charts = await google.colab.kernel.invokeFunction(\n",
       "            'suggestCharts', [key], {});\n",
       "      } catch (error) {\n",
       "        console.error('Error during call to suggestCharts:', error);\n",
       "      }\n",
       "      quickchartButtonEl.classList.remove('colab-df-spinner');\n",
       "      quickchartButtonEl.classList.add('colab-df-quickchart-complete');\n",
       "    }\n",
       "    (() => {\n",
       "      let quickchartButtonEl =\n",
       "        document.querySelector('#df-320f86ce-0e00-4a11-b3e7-1dde0aa4ad58 button');\n",
       "      quickchartButtonEl.style.display =\n",
       "        google.colab.kernel.accessAllowed ? 'block' : 'none';\n",
       "    })();\n",
       "  </script>\n",
       "</div>\n",
       "\n",
       "    </div>\n",
       "  </div>\n"
      ],
      "text/plain": [
       "                                              review sentiment  \\\n",
       "0  [one, reviewers, mentioned, watching, 1, oz, e...  positive   \n",
       "1  [wonderful, little, production, filming, techn...  positive   \n",
       "2  [thought, wonderful, way, spend, time, hot, su...  positive   \n",
       "3  [basically, theres, family, little, boy, jake,...  negative   \n",
       "4  [petter, matteis, love, time, money, visually,...  positive   \n",
       "5  [probably, alltime, favorite, movie, story, se...  positive   \n",
       "6  [sure, would, like, see, resurrection, dated, ...  positive   \n",
       "7  [show, amazing, fresh, innovative, idea, 70s, ...  negative   \n",
       "8  [encouraged, positive, comments, film, looking...  negative   \n",
       "9  [like, original, gut, wrenching, laughter, lik...  positive   \n",
       "\n",
       "   Sentiment_Encoded  \n",
       "0                  1  \n",
       "1                  1  \n",
       "2                  1  \n",
       "3                  0  \n",
       "4                  1  \n",
       "5                  1  \n",
       "6                  1  \n",
       "7                  0  \n",
       "8                  0  \n",
       "9                  1  "
      ]
     },
     "execution_count": 40,
     "metadata": {},
     "output_type": "execute_result"
    }
   ],
   "source": [
    "data.head(10)"
   ]
  },
  {
   "cell_type": "code",
   "execution_count": null,
   "metadata": {
    "colab": {
     "base_uri": "https://localhost:8080/"
    },
    "id": "HNpKsyHPWTzn",
    "outputId": "77e94381-77df-455e-a55b-23d7cd4ab4e3"
   },
   "outputs": [
    {
     "data": {
      "text/plain": [
       "['show',\n",
       " 'amazing',\n",
       " 'fresh',\n",
       " 'innovative',\n",
       " 'idea',\n",
       " '70s',\n",
       " 'first',\n",
       " 'aired',\n",
       " 'first',\n",
       " '7',\n",
       " '8',\n",
       " 'years',\n",
       " 'brilliant',\n",
       " 'things',\n",
       " 'dropped',\n",
       " '1990',\n",
       " 'show',\n",
       " 'really',\n",
       " 'funny',\n",
       " 'anymore',\n",
       " 'continued',\n",
       " 'decline',\n",
       " 'complete',\n",
       " 'waste',\n",
       " 'time',\n",
       " 'todayits',\n",
       " 'truly',\n",
       " 'disgraceful',\n",
       " 'far',\n",
       " 'show',\n",
       " 'fallen',\n",
       " 'writing',\n",
       " 'painfully',\n",
       " 'bad',\n",
       " 'performances',\n",
       " 'almost',\n",
       " 'bad',\n",
       " 'mildly',\n",
       " 'entertaining',\n",
       " 'respite',\n",
       " 'guesthosts',\n",
       " 'show',\n",
       " 'probably',\n",
       " 'wouldnt',\n",
       " 'still',\n",
       " 'air',\n",
       " 'find',\n",
       " 'hard',\n",
       " 'believe',\n",
       " 'creator',\n",
       " 'handselected',\n",
       " 'original',\n",
       " 'cast',\n",
       " 'also',\n",
       " 'chose',\n",
       " 'band',\n",
       " 'hacks',\n",
       " 'followed',\n",
       " 'one',\n",
       " 'recognize',\n",
       " 'brilliance',\n",
       " 'see',\n",
       " 'fit',\n",
       " 'replace',\n",
       " 'mediocrity',\n",
       " 'felt',\n",
       " 'must',\n",
       " 'give',\n",
       " '2',\n",
       " 'stars',\n",
       " 'respect',\n",
       " 'original',\n",
       " 'cast',\n",
       " 'made',\n",
       " 'show',\n",
       " 'huge',\n",
       " 'success',\n",
       " 'show',\n",
       " 'awful',\n",
       " 'cant',\n",
       " 'believe',\n",
       " 'still',\n",
       " 'air']"
      ]
     },
     "execution_count": 41,
     "metadata": {},
     "output_type": "execute_result"
    }
   ],
   "source": [
    "data['review'][7]"
   ]
  },
  {
   "cell_type": "markdown",
   "metadata": {
    "id": "VmhhG4mO7DY7"
   },
   "source": [
    "### Spliting to Train, Test"
   ]
  },
  {
   "cell_type": "code",
   "execution_count": null,
   "metadata": {
    "id": "liJOatBvWjLA"
   },
   "outputs": [],
   "source": [
    "x = padded_sequences\n",
    "y = data['Sentiment_Encoded']"
   ]
  },
  {
   "cell_type": "code",
   "execution_count": null,
   "metadata": {
    "colab": {
     "base_uri": "https://localhost:8080/"
    },
    "id": "ms85_s10efgY",
    "outputId": "16f7493e-56e1-41d5-dcd6-0b41175f59ab"
   },
   "outputs": [
    {
     "name": "stdout",
     "output_type": "stream",
     "text": [
      "(50000, 1429) (50000,)\n"
     ]
    }
   ],
   "source": [
    "print(x.shape, y.shape)"
   ]
  },
  {
   "cell_type": "code",
   "execution_count": null,
   "metadata": {
    "id": "xxirlPlB7GhP"
   },
   "outputs": [],
   "source": [
    "from sklearn.model_selection import train_test_split\n",
    "import numpy as np\n",
    "X_train, X_val_test, y_train, y_val_test = train_test_split(x, y, test_size=0.2, random_state=42)\n",
    "X_val, X_test, y_val, y_test = train_test_split(X_val_test, y_val_test, test_size=0.5, random_state=42)"
   ]
  },
  {
   "cell_type": "code",
   "execution_count": null,
   "metadata": {
    "colab": {
     "base_uri": "https://localhost:8080/"
    },
    "id": "dZFIgHLB9CTN",
    "outputId": "54e523dc-ec26-4cb4-d4c7-d4b68c69de66"
   },
   "outputs": [
    {
     "name": "stdout",
     "output_type": "stream",
     "text": [
      "(40000, 1429) (40000,)\n"
     ]
    }
   ],
   "source": [
    "print(X_train.shape, y_train.shape)"
   ]
  },
  {
   "cell_type": "code",
   "execution_count": null,
   "metadata": {
    "colab": {
     "base_uri": "https://localhost:8080/"
    },
    "id": "yOG-QJ4I8C5J",
    "outputId": "546a7cc2-8abd-4a2c-e258-c78aaaea8eb0"
   },
   "outputs": [
    {
     "name": "stdout",
     "output_type": "stream",
     "text": [
      "(10000, 1429) (10000,)\n"
     ]
    }
   ],
   "source": [
    "print(X_val_test.shape, y_val_test.shape)"
   ]
  },
  {
   "cell_type": "code",
   "execution_count": null,
   "metadata": {
    "colab": {
     "base_uri": "https://localhost:8080/"
    },
    "id": "IUV0PALn8OPa",
    "outputId": "ac905c3e-da06-45d2-caa7-f4c6c2d94608"
   },
   "outputs": [
    {
     "name": "stdout",
     "output_type": "stream",
     "text": [
      "(5000, 1429) (5000,)\n"
     ]
    }
   ],
   "source": [
    "print(X_val.shape, y_val.shape)"
   ]
  },
  {
   "cell_type": "code",
   "execution_count": null,
   "metadata": {
    "colab": {
     "base_uri": "https://localhost:8080/"
    },
    "id": "g8C7n6lig6p8",
    "outputId": "28cb4076-9244-49aa-d519-8b6b15a66de7"
   },
   "outputs": [
    {
     "name": "stdout",
     "output_type": "stream",
     "text": [
      "(5000, 1429) (5000,)\n"
     ]
    }
   ],
   "source": [
    "print(X_test.shape, y_test.shape)"
   ]
  },
  {
   "cell_type": "code",
   "execution_count": null,
   "metadata": {
    "colab": {
     "base_uri": "https://localhost:8080/"
    },
    "id": "9o5ert_A8Zj3",
    "outputId": "0403c3bc-970c-4477-e001-2b71e37b73e6"
   },
   "outputs": [
    {
     "data": {
      "text/plain": [
       "array([[  257, 13247,   142, ...,     0,     0,     0],\n",
       "       [18942,   392,  1086, ...,     0,     0,     0],\n",
       "       [    4,    41,   127, ...,     0,     0,     0],\n",
       "       ...,\n",
       "       [   78,   260,    12, ...,     0,     0,     0],\n",
       "       [  133,  2205,     3, ...,     0,     0,     0],\n",
       "       [ 1522,  1464,    23, ...,     0,     0,     0]], dtype=int32)"
      ]
     },
     "execution_count": 49,
     "metadata": {},
     "output_type": "execute_result"
    }
   ],
   "source": [
    "X_val"
   ]
  },
  {
   "cell_type": "code",
   "execution_count": null,
   "metadata": {
    "colab": {
     "base_uri": "https://localhost:8080/"
    },
    "id": "BbSabB8v8dgx",
    "outputId": "9e9980d6-5392-43a3-a880-ec30bb057ae1"
   },
   "outputs": [
    {
     "data": {
      "text/plain": [
       "47374    0\n",
       "48216    0\n",
       "45929    1\n",
       "48715    0\n",
       "18849    0\n",
       "        ..\n",
       "49939    0\n",
       "6420     0\n",
       "48421    1\n",
       "26037    1\n",
       "31247    0\n",
       "Name: Sentiment_Encoded, Length: 5000, dtype: int64"
      ]
     },
     "execution_count": 50,
     "metadata": {},
     "output_type": "execute_result"
    }
   ],
   "source": [
    "y_val"
   ]
  },
  {
   "cell_type": "markdown",
   "metadata": {
    "id": "qKtgLgLX8k2D"
   },
   "source": [
    "### LSTM MODEL"
   ]
  },
  {
   "cell_type": "code",
   "execution_count": null,
   "metadata": {
    "id": "h4TIuFbLh0zZ"
   },
   "outputs": [],
   "source": [
    "import numpy as np\n",
    "import tensorflow as tf\n",
    "from tensorflow.keras.preprocessing.text import Tokenizer\n",
    "from tensorflow.keras.preprocessing.sequence import pad_sequences\n",
    "from tensorflow.keras.models import Sequential\n",
    "from tensorflow.keras.layers import Embedding, LSTM, Dense, Dropout"
   ]
  },
  {
   "cell_type": "code",
   "execution_count": null,
   "metadata": {
    "id": "D0JCvECFpBfq"
   },
   "outputs": [],
   "source": [
    "model = tf.keras.Sequential([\n",
    "    tf.keras.layers.Embedding(len(word_index) + 1, 64, input_length=max_length),\n",
    "    tf.keras.layers.Bidirectional(tf.keras.layers.LSTM(64,  return_sequences=True)),\n",
    "    tf.keras.layers.Bidirectional(tf.keras.layers.LSTM(32)),\n",
    "    tf.keras.layers.Dense(64, activation='relu'),\n",
    "    tf.keras.layers.Dropout(0.5),\n",
    "    tf.keras.layers.Dense(1)\n",
    "])"
   ]
  },
  {
   "cell_type": "code",
   "execution_count": null,
   "metadata": {
    "id": "DtkT_S2Epg7J"
   },
   "outputs": [],
   "source": [
    "model.compile(loss=tf.keras.losses.BinaryCrossentropy(from_logits=True),\n",
    "              optimizer='adam',\n",
    "              metrics=['accuracy'])"
   ]
  },
  {
   "cell_type": "markdown",
   "metadata": {
    "id": "T3W8sL0rzWin"
   },
   "source": [
    "Batch Size: 32 Train Image: 40,000 Steps_per_epoch = 40,000/32 = 1250"
   ]
  },
  {
   "cell_type": "code",
   "execution_count": null,
   "metadata": {
    "colab": {
     "base_uri": "https://localhost:8080/"
    },
    "id": "uMeL4rFaNTdV",
    "outputId": "c957e0ee-a9a5-4924-a5f3-a7f0bc6dd1dc"
   },
   "outputs": [
    {
     "name": "stdout",
     "output_type": "stream",
     "text": [
      "Epoch 1/10\n",
      "1250/1250 [==============================] - 311s 242ms/step - loss: 0.4484 - accuracy: 0.7545 - val_loss: 0.2865 - val_accuracy: 0.8736\n",
      "Epoch 2/10\n",
      "1250/1250 [==============================] - 223s 178ms/step - loss: 0.2034 - accuracy: 0.9277 - val_loss: 0.2733 - val_accuracy: 0.8904\n",
      "Epoch 3/10\n",
      "1250/1250 [==============================] - 208s 166ms/step - loss: 0.1095 - accuracy: 0.9653 - val_loss: 0.3197 - val_accuracy: 0.8880\n",
      "Epoch 4/10\n",
      "1250/1250 [==============================] - 202s 162ms/step - loss: 0.0589 - accuracy: 0.9852 - val_loss: 0.4075 - val_accuracy: 0.8788\n",
      "Epoch 5/10\n",
      "1250/1250 [==============================] - 197s 158ms/step - loss: 0.0351 - accuracy: 0.9914 - val_loss: 0.5197 - val_accuracy: 0.8684\n",
      "Epoch 6/10\n",
      "1250/1250 [==============================] - 198s 159ms/step - loss: 0.0229 - accuracy: 0.9947 - val_loss: 0.5575 - val_accuracy: 0.8786\n",
      "Epoch 7/10\n",
      "1250/1250 [==============================] - 198s 158ms/step - loss: 0.0130 - accuracy: 0.9971 - val_loss: 0.6310 - val_accuracy: 0.8780\n",
      "Epoch 8/10\n",
      "1250/1250 [==============================] - 195s 156ms/step - loss: 0.0127 - accuracy: 0.9970 - val_loss: 0.6397 - val_accuracy: 0.8778\n",
      "Epoch 9/10\n",
      "1250/1250 [==============================] - 191s 153ms/step - loss: 0.0095 - accuracy: 0.9978 - val_loss: 0.7130 - val_accuracy: 0.8698\n",
      "Epoch 10/10\n",
      "1250/1250 [==============================] - 193s 155ms/step - loss: 0.0088 - accuracy: 0.9977 - val_loss: 0.6994 - val_accuracy: 0.8716\n"
     ]
    }
   ],
   "source": [
    "# Fit the model\n",
    "RNN = model.fit(X_train, y_train, epochs=10, batch_size=32, validation_data=(X_val, y_val))"
   ]
  },
  {
   "cell_type": "code",
   "execution_count": null,
   "metadata": {
    "colab": {
     "base_uri": "https://localhost:8080/"
    },
    "id": "QDvPqA9SXqY1",
    "outputId": "ff9eaf86-0854-43aa-8b6e-5078ec15eb32"
   },
   "outputs": [
    {
     "name": "stdout",
     "output_type": "stream",
     "text": [
      "157/157 [==============================] - 11s 72ms/step - loss: 0.7045 - accuracy: 0.8736\n",
      "Test Loss: 0.7044678926467896\n",
      "Test Accuracy: 0.8736000061035156\n"
     ]
    }
   ],
   "source": [
    "# Evaluate the model on the test set\n",
    "test_loss, test_accuracy = RNN.model.evaluate(X_test, y_test)\n",
    "print(\"Test Loss:\", test_loss)\n",
    "print(\"Test Accuracy:\", test_accuracy)"
   ]
  },
  {
   "cell_type": "code",
   "execution_count": null,
   "metadata": {
    "colab": {
     "base_uri": "https://localhost:8080/",
     "height": 487
    },
    "id": "43vnErk9cXw5",
    "outputId": "4894906c-4227-4c2d-b77b-feb7d684c376"
   },
   "outputs": [
    {
     "data": {
      "image/png": "[encoded data removed]",
      "text/plain": [
       "<Figure size 600x500 with 1 Axes>"
      ]
     },
     "metadata": {},
     "output_type": "display_data"
    }
   ],
   "source": [
    "import matplotlib.pyplot as plt\n",
    "\n",
    "# Plot training & validation accuracy values\n",
    "plt.figure(figsize=(6, 5))\n",
    "plt.plot(RNN.history['accuracy'], label='Train Accuracy')\n",
    "plt.plot(RNN.history['val_accuracy'], label='Val Accuracy')\n",
    "plt.title('Model Accuracy')\n",
    "plt.xlabel('Epoch')\n",
    "plt.ylabel('Accuracy')\n",
    "plt.legend()\n",
    "plt.show()"
   ]
  },
  {
   "cell_type": "code",
   "execution_count": null,
   "metadata": {
    "colab": {
     "base_uri": "https://localhost:8080/",
     "height": 487
    },
    "id": "UCBMYbWGchcx",
    "outputId": "024be07d-d530-4f97-bf9e-769cba5508c9"
   },
   "outputs": [
    {
     "data": {
      "image/png": "[encoded data removed]",
      "text/plain": [
       "<Figure size 600x500 with 1 Axes>"
      ]
     },
     "metadata": {},
     "output_type": "display_data"
    }
   ],
   "source": [
    "# Plot training & validation loss values\n",
    "plt.figure(figsize=(6, 5))\n",
    "plt.plot(RNN.history['loss'], label='Train Loss')\n",
    "plt.plot(RNN.history['val_loss'], label='Val Loss')\n",
    "plt.title('Model Loss')\n",
    "plt.xlabel('Epoch')\n",
    "plt.ylabel('Loss')\n",
    "plt.legend()\n",
    "plt.show()"
   ]
  },
  {
   "cell_type": "code",
   "execution_count": null,
   "metadata": {
    "colab": {
     "base_uri": "https://localhost:8080/"
    },
    "id": "i60smoczX4Wk",
    "outputId": "148078fd-5fd3-4cf2-923e-4d7a21d6dc6f"
   },
   "outputs": [
    {
     "name": "stderr",
     "output_type": "stream",
     "text": [
      "/usr/local/lib/python3.10/dist-packages/keras/src/engine/training.py:3103: UserWarning: You are saving your model as an HDF5 file via `model.save()`. This file format is considered legacy. We recommend using instead the native Keras format, e.g. `model.save('my_model.keras')`.\n",
      "  saving_api.save_model(\n"
     ]
    }
   ],
   "source": [
    "RNN.model.save('RNN.h5')"
   ]
  },
  {
   "cell_type": "markdown",
   "metadata": {
    "id": "hyPIsZ01bJnR"
   },
   "source": [
    "## Model Evaluation"
   ]
  },
  {
   "cell_type": "code",
   "execution_count": null,
   "metadata": {
    "id": "TFA1bALFa62v"
   },
   "outputs": [],
   "source": [
    "from tensorflow.keras.models import load_model\n",
    "model = load_model('RNN.h5')"
   ]
  },
  {
   "cell_type": "code",
   "execution_count": null,
   "metadata": {
    "id": "8SUkcMR_a9Z8"
   },
   "outputs": [],
   "source": [
    "from tensorflow.keras.preprocessing.text import Tokenizer\n",
    "from tensorflow.keras.preprocessing.sequence import pad_sequences\n",
    "tokenizer = Tokenizer()\n",
    "tokenizer.fit_on_texts(data['review'])"
   ]
  },
  {
   "cell_type": "code",
   "execution_count": null,
   "metadata": {
    "id": "puCffG74bBSN"
   },
   "outputs": [],
   "source": [
    "sample_review = \"i didn't like the movie\""
   ]
  },
  {
   "cell_type": "code",
   "execution_count": null,
   "metadata": {
    "id": "aOi5FarwbDej"
   },
   "outputs": [],
   "source": [
    "sample_sequence = tokenizer.texts_to_sequences([sample_review])\n",
    "padded_sequence = pad_sequences(sample_sequence, maxlen=1429, padding='post')"
   ]
  },
  {
   "cell_type": "code",
   "execution_count": null,
   "metadata": {
    "colab": {
     "base_uri": "https://localhost:8080/"
    },
    "id": "ZcksUO78ikUd",
    "outputId": "d8790094-934f-407a-e704-7136f7b85859"
   },
   "outputs": [
    {
     "data": {
      "text/plain": [
       "[[10, 154, 37, 1, 17]]"
      ]
     },
     "execution_count": 27,
     "metadata": {},
     "output_type": "execute_result"
    }
   ],
   "source": [
    "sample_sequence"
   ]
  },
  {
   "cell_type": "code",
   "execution_count": null,
   "metadata": {
    "colab": {
     "base_uri": "https://localhost:8080/"
    },
    "id": "76tFrtKEimuc",
    "outputId": "47777f54-5c7a-44e2-861e-1057f6c64802"
   },
   "outputs": [
    {
     "data": {
      "text/plain": [
       "array([[ 10, 154,  37, ...,   0,   0,   0]], dtype=int32)"
      ]
     },
     "execution_count": 28,
     "metadata": {},
     "output_type": "execute_result"
    }
   ],
   "source": [
    "padded_sequence"
   ]
  },
  {
   "cell_type": "code",
   "execution_count": null,
   "metadata": {
    "colab": {
     "base_uri": "https://localhost:8080/"
    },
    "id": "6Rjn7ew8bFuf",
    "outputId": "35e0e66a-82b8-4adc-9363-3a871836eb04"
   },
   "outputs": [
    {
     "name": "stdout",
     "output_type": "stream",
     "text": [
      "1/1 [==============================] - 0s 182ms/step\n",
      "Predicted Sentiment: Negative [[-2.1387181]]\n"
     ]
    }
   ],
   "source": [
    "prediction = model.predict(padded_sequence)\n",
    "predicted_sentiment = \"Positive\" if prediction[0][0] > 0.5 else \"Negative\"\n",
    "\n",
    "print(\"Predicted Sentiment:\", predicted_sentiment, prediction)"
   ]
  },
  {
   "cell_type": "code",
   "execution_count": null,
   "metadata": {
    "id": "lP4pzBpM7xfs"
   },
   "outputs": [],
   "source": [
    "sample_review = \"The movie was fantastic. I liked the movie\""
   ]
  },
  {
   "cell_type": "code",
   "execution_count": null,
   "metadata": {
    "id": "35FNunvR754c"
   },
   "outputs": [],
   "source": [
    "sample_sequence = tokenizer.texts_to_sequences([sample_review])\n",
    "padded_sequence = pad_sequences(sample_sequence, maxlen=1429, padding='post')"
   ]
  },
  {
   "cell_type": "code",
   "execution_count": null,
   "metadata": {
    "colab": {
     "base_uri": "https://localhost:8080/"
    },
    "id": "V708Iq3p79k_",
    "outputId": "84995a82-3452-4cf9-e42d-40b3178f22cf"
   },
   "outputs": [
    {
     "name": "stdout",
     "output_type": "stream",
     "text": [
      "1/1 [==============================] - 0s 184ms/step\n",
      "Predicted Sentiment: Positive [[1.4968672]]\n"
     ]
    }
   ],
   "source": [
    "prediction = model.predict(padded_sequence)\n",
    "predicted_sentiment = \"Positive\" if prediction[0][0] > 0.5 else \"Negative\"\n",
    "\n",
    "print(\"Predicted Sentiment:\", predicted_sentiment, prediction)"
   ]
  }
 ],
 "metadata": {
  "colab": {
   "provenance": []
  },
  "kernelspec": {
   "display_name": "Python 3 (ipykernel)",
   "language": "python",
   "name": "python3"
  },
  "language_info": {
   "codemirror_mode": {
    "name": "ipython",
    "version": 3
   },
   "file_extension": ".py",
   "mimetype": "text/x-python",
   "name": "python",
   "nbconvert_exporter": "python",
   "pygments_lexer": "ipython3",
   "version": "3.9.1"
  }
 },
 "nbformat": 4,
 "nbformat_minor": 4
}
